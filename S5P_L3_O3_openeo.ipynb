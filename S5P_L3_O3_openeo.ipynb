{
 "cells": [
  {
   "cell_type": "markdown",
   "id": "b487183a-9d7b-4339-8e2c-7bb9bacd2b51",
   "metadata": {
    "jp-MarkdownHeadingCollapsed": true
   },
   "source": [
    "# Do some installations with Python PIP for local openEO backend"
   ]
  },
  {
   "cell_type": "code",
   "execution_count": 1,
   "id": "8b9d589d-162f-40b8-9f68-596ec4cb3493",
   "metadata": {},
   "outputs": [],
   "source": [
    "import sys"
   ]
  },
  {
   "cell_type": "code",
   "execution_count": 2,
   "id": "94602450-5266-4364-a32e-c4ffddd07c86",
   "metadata": {},
   "outputs": [
    {
     "data": {
      "text/plain": [
       "'3.11.4 | packaged by conda-forge | (main, Jun 10 2023, 18:08:17) [GCC 12.2.0]'"
      ]
     },
     "execution_count": 2,
     "metadata": {},
     "output_type": "execute_result"
    }
   ],
   "source": [
    "sys.version"
   ]
  },
  {
   "cell_type": "code",
   "execution_count": 1,
   "id": "eb7942f4-4cc2-4299-9641-22fe48c490f6",
   "metadata": {},
   "outputs": [
    {
     "name": "stdout",
     "output_type": "stream",
     "text": [
      "Defaulting to user installation because normal site-packages is not writeable\n",
      "Requirement already satisfied: openeo in /dss/dsshome1/04/di35gek/.local/lib/python3.11/site-packages (0.22.0)\n",
      "Requirement already satisfied: requests>=2.26.0 in /dss/dsstbyfs01/pn56su/pn56su-dss-0020/opt/micromamba/envs/terrabyte_base/lib/python3.11/site-packages (from openeo) (2.31.0)\n",
      "Requirement already satisfied: shapely>=1.6.4 in /dss/dsstbyfs01/pn56su/pn56su-dss-0020/opt/micromamba/envs/terrabyte_base/lib/python3.11/site-packages (from openeo) (2.0.1)\n",
      "Requirement already satisfied: numpy>=1.17.0 in /dss/dsstbyfs01/pn56su/pn56su-dss-0020/opt/micromamba/envs/terrabyte_base/lib/python3.11/site-packages (from openeo) (1.24.0)\n",
      "Requirement already satisfied: xarray>=0.12.3 in /dss/dsstbyfs01/pn56su/pn56su-dss-0020/opt/micromamba/envs/terrabyte_base/lib/python3.11/site-packages (from openeo) (2023.6.0)\n",
      "Requirement already satisfied: pandas>0.20.0 in /dss/dsstbyfs01/pn56su/pn56su-dss-0020/opt/micromamba/envs/terrabyte_base/lib/python3.11/site-packages (from openeo) (2.0.3)\n",
      "Requirement already satisfied: deprecated>=1.2.12 in /dss/dsshome1/04/di35gek/.local/lib/python3.11/site-packages (from openeo) (1.2.14)\n",
      "Requirement already satisfied: wrapt<2,>=1.10 in /dss/dsshome1/04/di35gek/.local/lib/python3.11/site-packages (from deprecated>=1.2.12->openeo) (1.15.0)\n",
      "Requirement already satisfied: python-dateutil>=2.8.2 in /dss/dsstbyfs01/pn56su/pn56su-dss-0020/opt/micromamba/envs/terrabyte_base/lib/python3.11/site-packages (from pandas>0.20.0->openeo) (2.8.2)\n",
      "Requirement already satisfied: pytz>=2020.1 in /dss/dsstbyfs01/pn56su/pn56su-dss-0020/opt/micromamba/envs/terrabyte_base/lib/python3.11/site-packages (from pandas>0.20.0->openeo) (2023.3)\n",
      "Requirement already satisfied: tzdata>=2022.1 in /dss/dsstbyfs01/pn56su/pn56su-dss-0020/opt/micromamba/envs/terrabyte_base/lib/python3.11/site-packages (from pandas>0.20.0->openeo) (2023.3)\n",
      "Requirement already satisfied: charset-normalizer<4,>=2 in /dss/dsstbyfs01/pn56su/pn56su-dss-0020/opt/micromamba/envs/terrabyte_base/lib/python3.11/site-packages (from requests>=2.26.0->openeo) (3.1.0)\n",
      "Requirement already satisfied: idna<4,>=2.5 in /dss/dsstbyfs01/pn56su/pn56su-dss-0020/opt/micromamba/envs/terrabyte_base/lib/python3.11/site-packages (from requests>=2.26.0->openeo) (3.4)\n",
      "Requirement already satisfied: urllib3<3,>=1.21.1 in /dss/dsstbyfs01/pn56su/pn56su-dss-0020/opt/micromamba/envs/terrabyte_base/lib/python3.11/site-packages (from requests>=2.26.0->openeo) (2.0.3)\n",
      "Requirement already satisfied: certifi>=2017.4.17 in /dss/dsstbyfs01/pn56su/pn56su-dss-0020/opt/micromamba/envs/terrabyte_base/lib/python3.11/site-packages (from requests>=2.26.0->openeo) (2023.5.7)\n",
      "Requirement already satisfied: packaging>=21.3 in /dss/dsstbyfs01/pn56su/pn56su-dss-0020/opt/micromamba/envs/terrabyte_base/lib/python3.11/site-packages (from xarray>=0.12.3->openeo) (23.1)\n",
      "Requirement already satisfied: six>=1.5 in /dss/dsstbyfs01/pn56su/pn56su-dss-0020/opt/micromamba/envs/terrabyte_base/lib/python3.11/site-packages (from python-dateutil>=2.8.2->pandas>0.20.0->openeo) (1.16.0)\n",
      "Note: you may need to restart the kernel to use updated packages.\n"
     ]
    }
   ],
   "source": [
    "pip install openeo"
   ]
  },
  {
   "cell_type": "code",
   "execution_count": 4,
   "id": "3ae160a2-b263-4eef-b4bf-f5ed9c5d716d",
   "metadata": {},
   "outputs": [
    {
     "name": "stdout",
     "output_type": "stream",
     "text": [
      "Defaulting to user installation because normal site-packages is not writeable\n",
      "Requirement already satisfied: openeo_pg_parser_networkx in /dss/dsshome1/04/di35gek/.local/lib/python3.11/site-packages (2023.8.0)\n",
      "Requirement already satisfied: geojson-pydantic<0.6.0,>=0.5.0 in /dss/dsshome1/04/di35gek/.local/lib/python3.11/site-packages (from openeo_pg_parser_networkx) (0.5.0)\n",
      "Requirement already satisfied: networkx<3.0.0,>=2.8.6 in /dss/dsshome1/04/di35gek/.local/lib/python3.11/site-packages (from openeo_pg_parser_networkx) (2.8.8)\n",
      "Requirement already satisfied: numpy<2.0.0,>=1.20.3 in /dss/dsstbyfs01/pn56su/pn56su-dss-0020/opt/micromamba/envs/terrabyte_base/lib/python3.11/site-packages (from openeo_pg_parser_networkx) (1.24.0)\n",
      "Requirement already satisfied: pendulum<3.0.0,>=2.1.2 in /dss/dsshome1/04/di35gek/.local/lib/python3.11/site-packages (from openeo_pg_parser_networkx) (2.1.2)\n",
      "Requirement already satisfied: pydantic<2.0.0,>=1.9.1 in /dss/dsshome1/04/di35gek/.local/lib/python3.11/site-packages (from openeo_pg_parser_networkx) (1.10.12)\n",
      "Requirement already satisfied: pyproj<4.0.0,>=3.4.0 in /dss/dsstbyfs01/pn56su/pn56su-dss-0020/opt/micromamba/envs/terrabyte_base/lib/python3.11/site-packages (from openeo_pg_parser_networkx) (3.6.0)\n",
      "Requirement already satisfied: shapely>=1.8 in /dss/dsstbyfs01/pn56su/pn56su-dss-0020/opt/micromamba/envs/terrabyte_base/lib/python3.11/site-packages (from openeo_pg_parser_networkx) (2.0.1)\n",
      "Requirement already satisfied: python-dateutil<3.0,>=2.6 in /dss/dsstbyfs01/pn56su/pn56su-dss-0020/opt/micromamba/envs/terrabyte_base/lib/python3.11/site-packages (from pendulum<3.0.0,>=2.1.2->openeo_pg_parser_networkx) (2.8.2)\n",
      "Requirement already satisfied: pytzdata>=2020.1 in /dss/dsshome1/04/di35gek/.local/lib/python3.11/site-packages (from pendulum<3.0.0,>=2.1.2->openeo_pg_parser_networkx) (2020.1)\n",
      "Requirement already satisfied: typing-extensions>=4.2.0 in /dss/dsstbyfs01/pn56su/pn56su-dss-0020/opt/micromamba/envs/terrabyte_base/lib/python3.11/site-packages (from pydantic<2.0.0,>=1.9.1->openeo_pg_parser_networkx) (4.7.1)\n",
      "Requirement already satisfied: certifi in /dss/dsstbyfs01/pn56su/pn56su-dss-0020/opt/micromamba/envs/terrabyte_base/lib/python3.11/site-packages (from pyproj<4.0.0,>=3.4.0->openeo_pg_parser_networkx) (2023.5.7)\n",
      "Requirement already satisfied: six>=1.5 in /dss/dsstbyfs01/pn56su/pn56su-dss-0020/opt/micromamba/envs/terrabyte_base/lib/python3.11/site-packages (from python-dateutil<3.0,>=2.6->pendulum<3.0.0,>=2.1.2->openeo_pg_parser_networkx) (1.16.0)\n",
      "Note: you may need to restart the kernel to use updated packages.\n"
     ]
    }
   ],
   "source": [
    "pip install openeo_pg_parser_networkx"
   ]
  },
  {
   "cell_type": "code",
   "execution_count": 5,
   "id": "4ef0ea61-3e91-4252-8eac-34b9e60450b9",
   "metadata": {},
   "outputs": [
    {
     "name": "stdout",
     "output_type": "stream",
     "text": [
      "Defaulting to user installation because normal site-packages is not writeable\n",
      "Requirement already satisfied: openeo_processes_dask in /dss/dsshome1/04/di35gek/.local/lib/python3.11/site-packages (2023.8.1)\n",
      "Note: you may need to restart the kernel to use updated packages.\n"
     ]
    }
   ],
   "source": [
    "pip install openeo_processes_dask"
   ]
  },
  {
   "cell_type": "code",
   "execution_count": 1,
   "id": "f2be6c03-7869-461f-971b-6c41f27521a0",
   "metadata": {},
   "outputs": [
    {
     "name": "stdout",
     "output_type": "stream",
     "text": [
      "Defaulting to user installation because normal site-packages is not writeable\n",
      "Requirement already satisfied: dask_geopandas in /dss/dsshome1/04/di35gek/.local/lib/python3.11/site-packages (0.3.1)\n",
      "Requirement already satisfied: geopandas>=0.10 in /dss/dsstbyfs01/pn56su/pn56su-dss-0020/opt/micromamba/envs/terrabyte_base/lib/python3.11/site-packages (from dask_geopandas) (0.13.2)\n",
      "Requirement already satisfied: dask>=2021.06.0 in /dss/dsstbyfs01/pn56su/pn56su-dss-0020/opt/micromamba/envs/terrabyte_base/lib/python3.11/site-packages (from dask_geopandas) (2023.6.1)\n",
      "Requirement already satisfied: distributed>=2021.06.0 in /dss/dsstbyfs01/pn56su/pn56su-dss-0020/opt/micromamba/envs/terrabyte_base/lib/python3.11/site-packages (from dask_geopandas) (2023.6.1)\n",
      "Requirement already satisfied: packaging in /dss/dsstbyfs01/pn56su/pn56su-dss-0020/opt/micromamba/envs/terrabyte_base/lib/python3.11/site-packages (from dask_geopandas) (23.1)\n",
      "Requirement already satisfied: click>=8.0 in /dss/dsstbyfs01/pn56su/pn56su-dss-0020/opt/micromamba/envs/terrabyte_base/lib/python3.11/site-packages (from dask>=2021.06.0->dask_geopandas) (8.1.3)\n",
      "Requirement already satisfied: cloudpickle>=1.5.0 in /dss/dsstbyfs01/pn56su/pn56su-dss-0020/opt/micromamba/envs/terrabyte_base/lib/python3.11/site-packages (from dask>=2021.06.0->dask_geopandas) (2.2.1)\n",
      "Requirement already satisfied: fsspec>=2021.09.0 in /dss/dsstbyfs01/pn56su/pn56su-dss-0020/opt/micromamba/envs/terrabyte_base/lib/python3.11/site-packages (from dask>=2021.06.0->dask_geopandas) (2023.6.0)\n",
      "Requirement already satisfied: partd>=1.2.0 in /dss/dsstbyfs01/pn56su/pn56su-dss-0020/opt/micromamba/envs/terrabyte_base/lib/python3.11/site-packages (from dask>=2021.06.0->dask_geopandas) (1.4.0)\n",
      "Requirement already satisfied: pyyaml>=5.3.1 in /dss/dsstbyfs01/pn56su/pn56su-dss-0020/opt/micromamba/envs/terrabyte_base/lib/python3.11/site-packages (from dask>=2021.06.0->dask_geopandas) (6.0)\n",
      "Requirement already satisfied: toolz>=0.10.0 in /dss/dsstbyfs01/pn56su/pn56su-dss-0020/opt/micromamba/envs/terrabyte_base/lib/python3.11/site-packages (from dask>=2021.06.0->dask_geopandas) (0.12.0)\n",
      "Requirement already satisfied: importlib-metadata>=4.13.0 in /dss/dsstbyfs01/pn56su/pn56su-dss-0020/opt/micromamba/envs/terrabyte_base/lib/python3.11/site-packages (from dask>=2021.06.0->dask_geopandas) (6.7.0)\n",
      "Requirement already satisfied: jinja2>=2.10.3 in /dss/dsstbyfs01/pn56su/pn56su-dss-0020/opt/micromamba/envs/terrabyte_base/lib/python3.11/site-packages (from distributed>=2021.06.0->dask_geopandas) (3.1.2)\n",
      "Requirement already satisfied: locket>=1.0.0 in /dss/dsstbyfs01/pn56su/pn56su-dss-0020/opt/micromamba/envs/terrabyte_base/lib/python3.11/site-packages (from distributed>=2021.06.0->dask_geopandas) (1.0.0)\n",
      "Requirement already satisfied: msgpack>=1.0.0 in /dss/dsstbyfs01/pn56su/pn56su-dss-0020/opt/micromamba/envs/terrabyte_base/lib/python3.11/site-packages (from distributed>=2021.06.0->dask_geopandas) (1.0.5)\n",
      "Requirement already satisfied: psutil>=5.7.2 in /dss/dsstbyfs01/pn56su/pn56su-dss-0020/opt/micromamba/envs/terrabyte_base/lib/python3.11/site-packages (from distributed>=2021.06.0->dask_geopandas) (5.9.5)\n",
      "Requirement already satisfied: sortedcontainers>=2.0.5 in /dss/dsstbyfs01/pn56su/pn56su-dss-0020/opt/micromamba/envs/terrabyte_base/lib/python3.11/site-packages (from distributed>=2021.06.0->dask_geopandas) (2.4.0)\n",
      "Requirement already satisfied: tblib>=1.6.0 in /dss/dsstbyfs01/pn56su/pn56su-dss-0020/opt/micromamba/envs/terrabyte_base/lib/python3.11/site-packages (from distributed>=2021.06.0->dask_geopandas) (1.7.0)\n",
      "Requirement already satisfied: tornado>=6.0.4 in /dss/dsstbyfs01/pn56su/pn56su-dss-0020/opt/micromamba/envs/terrabyte_base/lib/python3.11/site-packages (from distributed>=2021.06.0->dask_geopandas) (6.3.2)\n",
      "Requirement already satisfied: urllib3>=1.24.3 in /dss/dsstbyfs01/pn56su/pn56su-dss-0020/opt/micromamba/envs/terrabyte_base/lib/python3.11/site-packages (from distributed>=2021.06.0->dask_geopandas) (2.0.3)\n",
      "Requirement already satisfied: zict>=2.2.0 in /dss/dsstbyfs01/pn56su/pn56su-dss-0020/opt/micromamba/envs/terrabyte_base/lib/python3.11/site-packages (from distributed>=2021.06.0->dask_geopandas) (3.0.0)\n",
      "Requirement already satisfied: fiona>=1.8.19 in /dss/dsstbyfs01/pn56su/pn56su-dss-0020/opt/micromamba/envs/terrabyte_base/lib/python3.11/site-packages (from geopandas>=0.10->dask_geopandas) (1.9.4)\n",
      "Requirement already satisfied: pandas>=1.1.0 in /dss/dsstbyfs01/pn56su/pn56su-dss-0020/opt/micromamba/envs/terrabyte_base/lib/python3.11/site-packages (from geopandas>=0.10->dask_geopandas) (2.0.3)\n",
      "Requirement already satisfied: pyproj>=3.0.1 in /dss/dsstbyfs01/pn56su/pn56su-dss-0020/opt/micromamba/envs/terrabyte_base/lib/python3.11/site-packages (from geopandas>=0.10->dask_geopandas) (3.6.0)\n",
      "Requirement already satisfied: shapely>=1.7.1 in /dss/dsstbyfs01/pn56su/pn56su-dss-0020/opt/micromamba/envs/terrabyte_base/lib/python3.11/site-packages (from geopandas>=0.10->dask_geopandas) (2.0.1)\n",
      "Requirement already satisfied: attrs>=19.2.0 in /dss/dsstbyfs01/pn56su/pn56su-dss-0020/opt/micromamba/envs/terrabyte_base/lib/python3.11/site-packages (from fiona>=1.8.19->geopandas>=0.10->dask_geopandas) (23.1.0)\n",
      "Requirement already satisfied: certifi in /dss/dsstbyfs01/pn56su/pn56su-dss-0020/opt/micromamba/envs/terrabyte_base/lib/python3.11/site-packages (from fiona>=1.8.19->geopandas>=0.10->dask_geopandas) (2023.5.7)\n",
      "Requirement already satisfied: click-plugins>=1.0 in /dss/dsstbyfs01/pn56su/pn56su-dss-0020/opt/micromamba/envs/terrabyte_base/lib/python3.11/site-packages (from fiona>=1.8.19->geopandas>=0.10->dask_geopandas) (1.1.1)\n",
      "Requirement already satisfied: cligj>=0.5 in /dss/dsstbyfs01/pn56su/pn56su-dss-0020/opt/micromamba/envs/terrabyte_base/lib/python3.11/site-packages (from fiona>=1.8.19->geopandas>=0.10->dask_geopandas) (0.7.2)\n",
      "Requirement already satisfied: six in /dss/dsstbyfs01/pn56su/pn56su-dss-0020/opt/micromamba/envs/terrabyte_base/lib/python3.11/site-packages (from fiona>=1.8.19->geopandas>=0.10->dask_geopandas) (1.16.0)\n",
      "Requirement already satisfied: zipp>=0.5 in /dss/dsstbyfs01/pn56su/pn56su-dss-0020/opt/micromamba/envs/terrabyte_base/lib/python3.11/site-packages (from importlib-metadata>=4.13.0->dask>=2021.06.0->dask_geopandas) (3.15.0)\n",
      "Requirement already satisfied: MarkupSafe>=2.0 in /dss/dsstbyfs01/pn56su/pn56su-dss-0020/opt/micromamba/envs/terrabyte_base/lib/python3.11/site-packages (from jinja2>=2.10.3->distributed>=2021.06.0->dask_geopandas) (2.1.3)\n",
      "Requirement already satisfied: python-dateutil>=2.8.2 in /dss/dsstbyfs01/pn56su/pn56su-dss-0020/opt/micromamba/envs/terrabyte_base/lib/python3.11/site-packages (from pandas>=1.1.0->geopandas>=0.10->dask_geopandas) (2.8.2)\n",
      "Requirement already satisfied: pytz>=2020.1 in /dss/dsstbyfs01/pn56su/pn56su-dss-0020/opt/micromamba/envs/terrabyte_base/lib/python3.11/site-packages (from pandas>=1.1.0->geopandas>=0.10->dask_geopandas) (2023.3)\n",
      "Requirement already satisfied: tzdata>=2022.1 in /dss/dsstbyfs01/pn56su/pn56su-dss-0020/opt/micromamba/envs/terrabyte_base/lib/python3.11/site-packages (from pandas>=1.1.0->geopandas>=0.10->dask_geopandas) (2023.3)\n",
      "Requirement already satisfied: numpy>=1.21.0 in /dss/dsstbyfs01/pn56su/pn56su-dss-0020/opt/micromamba/envs/terrabyte_base/lib/python3.11/site-packages (from pandas>=1.1.0->geopandas>=0.10->dask_geopandas) (1.24.0)\n",
      "Note: you may need to restart the kernel to use updated packages.\n"
     ]
    }
   ],
   "source": [
    "pip install dask_geopandas"
   ]
  },
  {
   "cell_type": "code",
   "execution_count": 2,
   "id": "87a1aac5-759e-4934-87af-adc823fbc560",
   "metadata": {},
   "outputs": [
    {
     "name": "stdout",
     "output_type": "stream",
     "text": [
      "Defaulting to user installation because normal site-packages is not writeable\n",
      "Requirement already satisfied: planetary_computer in /dss/dsshome1/04/di35gek/.local/lib/python3.11/site-packages (1.0.0)\n",
      "Requirement already satisfied: click>=7.1 in /dss/dsstbyfs01/pn56su/pn56su-dss-0020/opt/micromamba/envs/terrabyte_base/lib/python3.11/site-packages (from planetary_computer) (8.1.3)\n",
      "Requirement already satisfied: pydantic>=1.7.3 in /dss/dsshome1/04/di35gek/.local/lib/python3.11/site-packages (from planetary_computer) (1.10.12)\n",
      "Requirement already satisfied: pystac>=1.0.0 in /dss/dsstbyfs01/pn56su/pn56su-dss-0020/opt/micromamba/envs/terrabyte_base/lib/python3.11/site-packages (from planetary_computer) (1.8.1)\n",
      "Requirement already satisfied: pystac-client>=0.2.0 in /dss/dsstbyfs01/pn56su/pn56su-dss-0020/opt/micromamba/envs/terrabyte_base/lib/python3.11/site-packages (from planetary_computer) (0.7.2)\n",
      "Requirement already satisfied: pytz>=2020.5 in /dss/dsstbyfs01/pn56su/pn56su-dss-0020/opt/micromamba/envs/terrabyte_base/lib/python3.11/site-packages (from planetary_computer) (2023.3)\n",
      "Requirement already satisfied: requests>=2.25.1 in /dss/dsstbyfs01/pn56su/pn56su-dss-0020/opt/micromamba/envs/terrabyte_base/lib/python3.11/site-packages (from planetary_computer) (2.31.0)\n",
      "Requirement already satisfied: packaging in /dss/dsstbyfs01/pn56su/pn56su-dss-0020/opt/micromamba/envs/terrabyte_base/lib/python3.11/site-packages (from planetary_computer) (23.1)\n",
      "Requirement already satisfied: python-dotenv in /dss/dsshome1/04/di35gek/.local/lib/python3.11/site-packages (from planetary_computer) (1.0.0)\n",
      "Requirement already satisfied: typing-extensions>=4.2.0 in /dss/dsstbyfs01/pn56su/pn56su-dss-0020/opt/micromamba/envs/terrabyte_base/lib/python3.11/site-packages (from pydantic>=1.7.3->planetary_computer) (4.7.1)\n",
      "Requirement already satisfied: python-dateutil>=2.7.0 in /dss/dsstbyfs01/pn56su/pn56su-dss-0020/opt/micromamba/envs/terrabyte_base/lib/python3.11/site-packages (from pystac>=1.0.0->planetary_computer) (2.8.2)\n",
      "Requirement already satisfied: charset-normalizer<4,>=2 in /dss/dsstbyfs01/pn56su/pn56su-dss-0020/opt/micromamba/envs/terrabyte_base/lib/python3.11/site-packages (from requests>=2.25.1->planetary_computer) (3.1.0)\n",
      "Requirement already satisfied: idna<4,>=2.5 in /dss/dsstbyfs01/pn56su/pn56su-dss-0020/opt/micromamba/envs/terrabyte_base/lib/python3.11/site-packages (from requests>=2.25.1->planetary_computer) (3.4)\n",
      "Requirement already satisfied: urllib3<3,>=1.21.1 in /dss/dsstbyfs01/pn56su/pn56su-dss-0020/opt/micromamba/envs/terrabyte_base/lib/python3.11/site-packages (from requests>=2.25.1->planetary_computer) (2.0.3)\n",
      "Requirement already satisfied: certifi>=2017.4.17 in /dss/dsstbyfs01/pn56su/pn56su-dss-0020/opt/micromamba/envs/terrabyte_base/lib/python3.11/site-packages (from requests>=2.25.1->planetary_computer) (2023.5.7)\n",
      "Requirement already satisfied: jsonschema>=4.0.1 in /dss/dsstbyfs01/pn56su/pn56su-dss-0020/opt/micromamba/envs/terrabyte_base/lib/python3.11/site-packages (from pystac>=1.0.0->planetary_computer) (4.17.3)\n",
      "Requirement already satisfied: six>=1.5 in /dss/dsstbyfs01/pn56su/pn56su-dss-0020/opt/micromamba/envs/terrabyte_base/lib/python3.11/site-packages (from python-dateutil>=2.7.0->pystac>=1.0.0->planetary_computer) (1.16.0)\n",
      "Requirement already satisfied: attrs>=17.4.0 in /dss/dsstbyfs01/pn56su/pn56su-dss-0020/opt/micromamba/envs/terrabyte_base/lib/python3.11/site-packages (from jsonschema>=4.0.1->pystac>=1.0.0->planetary_computer) (23.1.0)\n",
      "Requirement already satisfied: pyrsistent!=0.17.0,!=0.17.1,!=0.17.2,>=0.14.0 in /dss/dsstbyfs01/pn56su/pn56su-dss-0020/opt/micromamba/envs/terrabyte_base/lib/python3.11/site-packages (from jsonschema>=4.0.1->pystac>=1.0.0->planetary_computer) (0.19.3)\n",
      "Note: you may need to restart the kernel to use updated packages.\n"
     ]
    }
   ],
   "source": [
    "pip install planetary_computer"
   ]
  },
  {
   "cell_type": "code",
   "execution_count": 3,
   "id": "665dec81-5d38-4d5c-b4a3-5892ab6a909b",
   "metadata": {},
   "outputs": [
    {
     "name": "stdout",
     "output_type": "stream",
     "text": [
      "Defaulting to user installation because normal site-packages is not writeable\n",
      "Requirement already satisfied: stac_validator in /dss/dsshome1/04/di35gek/.local/lib/python3.11/site-packages (3.3.1)\n",
      "Requirement already satisfied: requests>=2.19.1 in /dss/dsstbyfs01/pn56su/pn56su-dss-0020/opt/micromamba/envs/terrabyte_base/lib/python3.11/site-packages (from stac_validator) (2.31.0)\n",
      "Requirement already satisfied: jsonschema>=3.2.0 in /dss/dsstbyfs01/pn56su/pn56su-dss-0020/opt/micromamba/envs/terrabyte_base/lib/python3.11/site-packages (from stac_validator) (4.17.3)\n",
      "Requirement already satisfied: click>=8.0.0 in /dss/dsstbyfs01/pn56su/pn56su-dss-0020/opt/micromamba/envs/terrabyte_base/lib/python3.11/site-packages (from stac_validator) (8.1.3)\n",
      "Requirement already satisfied: types-setuptools in /dss/dsshome1/04/di35gek/.local/lib/python3.11/site-packages (from stac_validator) (68.1.0.1)\n",
      "Requirement already satisfied: attrs>=17.4.0 in /dss/dsstbyfs01/pn56su/pn56su-dss-0020/opt/micromamba/envs/terrabyte_base/lib/python3.11/site-packages (from jsonschema>=3.2.0->stac_validator) (23.1.0)\n",
      "Requirement already satisfied: pyrsistent!=0.17.0,!=0.17.1,!=0.17.2,>=0.14.0 in /dss/dsstbyfs01/pn56su/pn56su-dss-0020/opt/micromamba/envs/terrabyte_base/lib/python3.11/site-packages (from jsonschema>=3.2.0->stac_validator) (0.19.3)\n",
      "Requirement already satisfied: charset-normalizer<4,>=2 in /dss/dsstbyfs01/pn56su/pn56su-dss-0020/opt/micromamba/envs/terrabyte_base/lib/python3.11/site-packages (from requests>=2.19.1->stac_validator) (3.1.0)\n",
      "Requirement already satisfied: idna<4,>=2.5 in /dss/dsstbyfs01/pn56su/pn56su-dss-0020/opt/micromamba/envs/terrabyte_base/lib/python3.11/site-packages (from requests>=2.19.1->stac_validator) (3.4)\n",
      "Requirement already satisfied: urllib3<3,>=1.21.1 in /dss/dsstbyfs01/pn56su/pn56su-dss-0020/opt/micromamba/envs/terrabyte_base/lib/python3.11/site-packages (from requests>=2.19.1->stac_validator) (2.0.3)\n",
      "Requirement already satisfied: certifi>=2017.4.17 in /dss/dsstbyfs01/pn56su/pn56su-dss-0020/opt/micromamba/envs/terrabyte_base/lib/python3.11/site-packages (from requests>=2.19.1->stac_validator) (2023.5.7)\n",
      "Note: you may need to restart the kernel to use updated packages.\n"
     ]
    }
   ],
   "source": [
    "pip install stac_validator"
   ]
  },
  {
   "cell_type": "code",
   "execution_count": 1,
   "id": "2c424087-326b-4c8a-8103-e79ec95232d7",
   "metadata": {},
   "outputs": [
    {
     "name": "stdout",
     "output_type": "stream",
     "text": [
      "Defaulting to user installation because normal site-packages is not writeable\n",
      "Requirement already satisfied: openeo-processes-dask[implementations] in /dss/dsshome1/04/di35gek/.local/lib/python3.11/site-packages (2023.8.1)\n",
      "Requirement already satisfied: dask-geopandas<1,>=0.2.0 in /dss/dsshome1/04/di35gek/.local/lib/python3.11/site-packages (from openeo-processes-dask[implementations]) (0.3.1)\n",
      "Requirement already satisfied: dask[array]>=2023.4.0 in /dss/dsstbyfs01/pn56su/pn56su-dss-0020/opt/micromamba/envs/terrabyte_base/lib/python3.11/site-packages (from openeo-processes-dask[implementations]) (2023.6.1)\n",
      "Requirement already satisfied: geopandas<1,>=0.11.1 in /dss/dsstbyfs01/pn56su/pn56su-dss-0020/opt/micromamba/envs/terrabyte_base/lib/python3.11/site-packages (from openeo-processes-dask[implementations]) (0.13.2)\n",
      "Requirement already satisfied: odc-geo<1,>=0.4.1 in /dss/dsstbyfs01/pn56su/pn56su-dss-0020/opt/micromamba/envs/terrabyte_base/lib/python3.11/site-packages (from openeo-processes-dask[implementations]) (0.4.1)\n",
      "Requirement already satisfied: openeo-pg-parser-networkx>=2023.5.1 in /dss/dsshome1/04/di35gek/.local/lib/python3.11/site-packages (from openeo-processes-dask[implementations]) (2023.8.0)\n",
      "Requirement already satisfied: planetary_computer>=0.5.1 in /dss/dsshome1/04/di35gek/.local/lib/python3.11/site-packages (from openeo-processes-dask[implementations]) (1.0.0)\n",
      "Requirement already satisfied: pystac_client>=0.6.1 in /dss/dsstbyfs01/pn56su/pn56su-dss-0020/opt/micromamba/envs/terrabyte_base/lib/python3.11/site-packages (from openeo-processes-dask[implementations]) (0.7.2)\n",
      "Requirement already satisfied: rasterio<2.0.0,>=1.3.4 in /dss/dsstbyfs01/pn56su/pn56su-dss-0020/opt/micromamba/envs/terrabyte_base/lib/python3.11/site-packages (from openeo-processes-dask[implementations]) (1.3.8)\n",
      "Requirement already satisfied: rioxarray<1,>=0.12.0 in /dss/dsstbyfs01/pn56su/pn56su-dss-0020/opt/micromamba/envs/terrabyte_base/lib/python3.11/site-packages (from openeo-processes-dask[implementations]) (0.14.1)\n",
      "Requirement already satisfied: stac_validator>=3.3.1 in /dss/dsshome1/04/di35gek/.local/lib/python3.11/site-packages (from openeo-processes-dask[implementations]) (3.3.1)\n",
      "Requirement already satisfied: stackstac>=0.4.3 in /dss/dsstbyfs01/pn56su/pn56su-dss-0020/opt/micromamba/envs/terrabyte_base/lib/python3.11/site-packages (from openeo-processes-dask[implementations]) (0.4.4)\n",
      "Requirement already satisfied: xarray>=2022.11.0 in /dss/dsstbyfs01/pn56su/pn56su-dss-0020/opt/micromamba/envs/terrabyte_base/lib/python3.11/site-packages (from openeo-processes-dask[implementations]) (2023.6.0)\n",
      "Requirement already satisfied: distributed>=2021.06.0 in /dss/dsstbyfs01/pn56su/pn56su-dss-0020/opt/micromamba/envs/terrabyte_base/lib/python3.11/site-packages (from dask-geopandas<1,>=0.2.0->openeo-processes-dask[implementations]) (2023.6.1)\n",
      "Requirement already satisfied: packaging in /dss/dsstbyfs01/pn56su/pn56su-dss-0020/opt/micromamba/envs/terrabyte_base/lib/python3.11/site-packages (from dask-geopandas<1,>=0.2.0->openeo-processes-dask[implementations]) (23.1)\n",
      "Requirement already satisfied: click>=8.0 in /dss/dsstbyfs01/pn56su/pn56su-dss-0020/opt/micromamba/envs/terrabyte_base/lib/python3.11/site-packages (from dask[array]>=2023.4.0->openeo-processes-dask[implementations]) (8.1.3)\n",
      "Requirement already satisfied: cloudpickle>=1.5.0 in /dss/dsstbyfs01/pn56su/pn56su-dss-0020/opt/micromamba/envs/terrabyte_base/lib/python3.11/site-packages (from dask[array]>=2023.4.0->openeo-processes-dask[implementations]) (2.2.1)\n",
      "Requirement already satisfied: fsspec>=2021.09.0 in /dss/dsstbyfs01/pn56su/pn56su-dss-0020/opt/micromamba/envs/terrabyte_base/lib/python3.11/site-packages (from dask[array]>=2023.4.0->openeo-processes-dask[implementations]) (2023.6.0)\n",
      "Requirement already satisfied: partd>=1.2.0 in /dss/dsstbyfs01/pn56su/pn56su-dss-0020/opt/micromamba/envs/terrabyte_base/lib/python3.11/site-packages (from dask[array]>=2023.4.0->openeo-processes-dask[implementations]) (1.4.0)\n",
      "Requirement already satisfied: pyyaml>=5.3.1 in /dss/dsstbyfs01/pn56su/pn56su-dss-0020/opt/micromamba/envs/terrabyte_base/lib/python3.11/site-packages (from dask[array]>=2023.4.0->openeo-processes-dask[implementations]) (6.0)\n",
      "Requirement already satisfied: toolz>=0.10.0 in /dss/dsstbyfs01/pn56su/pn56su-dss-0020/opt/micromamba/envs/terrabyte_base/lib/python3.11/site-packages (from dask[array]>=2023.4.0->openeo-processes-dask[implementations]) (0.12.0)\n",
      "Requirement already satisfied: importlib-metadata>=4.13.0 in /dss/dsstbyfs01/pn56su/pn56su-dss-0020/opt/micromamba/envs/terrabyte_base/lib/python3.11/site-packages (from dask[array]>=2023.4.0->openeo-processes-dask[implementations]) (6.7.0)\n",
      "Requirement already satisfied: numpy>=1.21 in /dss/dsstbyfs01/pn56su/pn56su-dss-0020/opt/micromamba/envs/terrabyte_base/lib/python3.11/site-packages (from dask[array]>=2023.4.0->openeo-processes-dask[implementations]) (1.24.0)\n",
      "Requirement already satisfied: fiona>=1.8.19 in /dss/dsstbyfs01/pn56su/pn56su-dss-0020/opt/micromamba/envs/terrabyte_base/lib/python3.11/site-packages (from geopandas<1,>=0.11.1->openeo-processes-dask[implementations]) (1.9.4)\n",
      "Requirement already satisfied: pandas>=1.1.0 in /dss/dsstbyfs01/pn56su/pn56su-dss-0020/opt/micromamba/envs/terrabyte_base/lib/python3.11/site-packages (from geopandas<1,>=0.11.1->openeo-processes-dask[implementations]) (2.0.3)\n",
      "Requirement already satisfied: pyproj>=3.0.1 in /dss/dsstbyfs01/pn56su/pn56su-dss-0020/opt/micromamba/envs/terrabyte_base/lib/python3.11/site-packages (from geopandas<1,>=0.11.1->openeo-processes-dask[implementations]) (3.6.0)\n",
      "Requirement already satisfied: shapely>=1.7.1 in /dss/dsstbyfs01/pn56su/pn56su-dss-0020/opt/micromamba/envs/terrabyte_base/lib/python3.11/site-packages (from geopandas<1,>=0.11.1->openeo-processes-dask[implementations]) (2.0.1)\n",
      "Requirement already satisfied: affine in /dss/dsstbyfs01/pn56su/pn56su-dss-0020/opt/micromamba/envs/terrabyte_base/lib/python3.11/site-packages (from odc-geo<1,>=0.4.1->openeo-processes-dask[implementations]) (2.4.0)\n",
      "Requirement already satisfied: cachetools in /dss/dsstbyfs01/pn56su/pn56su-dss-0020/opt/micromamba/envs/terrabyte_base/lib/python3.11/site-packages (from odc-geo<1,>=0.4.1->openeo-processes-dask[implementations]) (5.3.1)\n",
      "Requirement already satisfied: geojson-pydantic<0.6.0,>=0.5.0 in /dss/dsshome1/04/di35gek/.local/lib/python3.11/site-packages (from openeo-pg-parser-networkx>=2023.5.1->openeo-processes-dask[implementations]) (0.5.0)\n",
      "Requirement already satisfied: networkx<3.0.0,>=2.8.6 in /dss/dsshome1/04/di35gek/.local/lib/python3.11/site-packages (from openeo-pg-parser-networkx>=2023.5.1->openeo-processes-dask[implementations]) (2.8.8)\n",
      "Requirement already satisfied: pendulum<3.0.0,>=2.1.2 in /dss/dsshome1/04/di35gek/.local/lib/python3.11/site-packages (from openeo-pg-parser-networkx>=2023.5.1->openeo-processes-dask[implementations]) (2.1.2)\n",
      "Requirement already satisfied: pydantic<2.0.0,>=1.9.1 in /dss/dsshome1/04/di35gek/.local/lib/python3.11/site-packages (from openeo-pg-parser-networkx>=2023.5.1->openeo-processes-dask[implementations]) (1.10.12)\n",
      "Requirement already satisfied: pystac>=1.0.0 in /dss/dsstbyfs01/pn56su/pn56su-dss-0020/opt/micromamba/envs/terrabyte_base/lib/python3.11/site-packages (from planetary_computer>=0.5.1->openeo-processes-dask[implementations]) (1.8.1)\n",
      "Requirement already satisfied: pytz>=2020.5 in /dss/dsstbyfs01/pn56su/pn56su-dss-0020/opt/micromamba/envs/terrabyte_base/lib/python3.11/site-packages (from planetary_computer>=0.5.1->openeo-processes-dask[implementations]) (2023.3)\n",
      "Requirement already satisfied: requests>=2.25.1 in /dss/dsstbyfs01/pn56su/pn56su-dss-0020/opt/micromamba/envs/terrabyte_base/lib/python3.11/site-packages (from planetary_computer>=0.5.1->openeo-processes-dask[implementations]) (2.31.0)\n",
      "Requirement already satisfied: python-dotenv in /dss/dsshome1/04/di35gek/.local/lib/python3.11/site-packages (from planetary_computer>=0.5.1->openeo-processes-dask[implementations]) (1.0.0)\n",
      "Requirement already satisfied: python-dateutil>=2.8.2 in /dss/dsstbyfs01/pn56su/pn56su-dss-0020/opt/micromamba/envs/terrabyte_base/lib/python3.11/site-packages (from pystac_client>=0.6.1->openeo-processes-dask[implementations]) (2.8.2)\n",
      "Requirement already satisfied: attrs in /dss/dsstbyfs01/pn56su/pn56su-dss-0020/opt/micromamba/envs/terrabyte_base/lib/python3.11/site-packages (from rasterio<2.0.0,>=1.3.4->openeo-processes-dask[implementations]) (23.1.0)\n",
      "Requirement already satisfied: certifi in /dss/dsstbyfs01/pn56su/pn56su-dss-0020/opt/micromamba/envs/terrabyte_base/lib/python3.11/site-packages (from rasterio<2.0.0,>=1.3.4->openeo-processes-dask[implementations]) (2023.5.7)\n",
      "Requirement already satisfied: cligj>=0.5 in /dss/dsstbyfs01/pn56su/pn56su-dss-0020/opt/micromamba/envs/terrabyte_base/lib/python3.11/site-packages (from rasterio<2.0.0,>=1.3.4->openeo-processes-dask[implementations]) (0.7.2)\n",
      "Requirement already satisfied: snuggs>=1.4.1 in /dss/dsstbyfs01/pn56su/pn56su-dss-0020/opt/micromamba/envs/terrabyte_base/lib/python3.11/site-packages (from rasterio<2.0.0,>=1.3.4->openeo-processes-dask[implementations]) (1.4.7)\n",
      "Requirement already satisfied: click-plugins in /dss/dsstbyfs01/pn56su/pn56su-dss-0020/opt/micromamba/envs/terrabyte_base/lib/python3.11/site-packages (from rasterio<2.0.0,>=1.3.4->openeo-processes-dask[implementations]) (1.1.1)\n",
      "Requirement already satisfied: setuptools in /dss/dsstbyfs01/pn56su/pn56su-dss-0020/opt/micromamba/envs/terrabyte_base/lib/python3.11/site-packages (from rasterio<2.0.0,>=1.3.4->openeo-processes-dask[implementations]) (68.0.0)\n",
      "Requirement already satisfied: jsonschema>=3.2.0 in /dss/dsstbyfs01/pn56su/pn56su-dss-0020/opt/micromamba/envs/terrabyte_base/lib/python3.11/site-packages (from stac_validator>=3.3.1->openeo-processes-dask[implementations]) (4.17.3)\n",
      "Requirement already satisfied: types-setuptools in /dss/dsshome1/04/di35gek/.local/lib/python3.11/site-packages (from stac_validator>=3.3.1->openeo-processes-dask[implementations]) (68.1.0.1)\n",
      "Requirement already satisfied: jinja2>=2.10.3 in /dss/dsstbyfs01/pn56su/pn56su-dss-0020/opt/micromamba/envs/terrabyte_base/lib/python3.11/site-packages (from distributed>=2021.06.0->dask-geopandas<1,>=0.2.0->openeo-processes-dask[implementations]) (3.1.2)\n",
      "Requirement already satisfied: locket>=1.0.0 in /dss/dsstbyfs01/pn56su/pn56su-dss-0020/opt/micromamba/envs/terrabyte_base/lib/python3.11/site-packages (from distributed>=2021.06.0->dask-geopandas<1,>=0.2.0->openeo-processes-dask[implementations]) (1.0.0)\n",
      "Requirement already satisfied: msgpack>=1.0.0 in /dss/dsstbyfs01/pn56su/pn56su-dss-0020/opt/micromamba/envs/terrabyte_base/lib/python3.11/site-packages (from distributed>=2021.06.0->dask-geopandas<1,>=0.2.0->openeo-processes-dask[implementations]) (1.0.5)\n",
      "Requirement already satisfied: psutil>=5.7.2 in /dss/dsstbyfs01/pn56su/pn56su-dss-0020/opt/micromamba/envs/terrabyte_base/lib/python3.11/site-packages (from distributed>=2021.06.0->dask-geopandas<1,>=0.2.0->openeo-processes-dask[implementations]) (5.9.5)\n",
      "Requirement already satisfied: sortedcontainers>=2.0.5 in /dss/dsstbyfs01/pn56su/pn56su-dss-0020/opt/micromamba/envs/terrabyte_base/lib/python3.11/site-packages (from distributed>=2021.06.0->dask-geopandas<1,>=0.2.0->openeo-processes-dask[implementations]) (2.4.0)\n",
      "Requirement already satisfied: tblib>=1.6.0 in /dss/dsstbyfs01/pn56su/pn56su-dss-0020/opt/micromamba/envs/terrabyte_base/lib/python3.11/site-packages (from distributed>=2021.06.0->dask-geopandas<1,>=0.2.0->openeo-processes-dask[implementations]) (1.7.0)\n",
      "Requirement already satisfied: tornado>=6.0.4 in /dss/dsstbyfs01/pn56su/pn56su-dss-0020/opt/micromamba/envs/terrabyte_base/lib/python3.11/site-packages (from distributed>=2021.06.0->dask-geopandas<1,>=0.2.0->openeo-processes-dask[implementations]) (6.3.2)\n",
      "Requirement already satisfied: urllib3>=1.24.3 in /dss/dsstbyfs01/pn56su/pn56su-dss-0020/opt/micromamba/envs/terrabyte_base/lib/python3.11/site-packages (from distributed>=2021.06.0->dask-geopandas<1,>=0.2.0->openeo-processes-dask[implementations]) (2.0.3)\n",
      "Requirement already satisfied: zict>=2.2.0 in /dss/dsstbyfs01/pn56su/pn56su-dss-0020/opt/micromamba/envs/terrabyte_base/lib/python3.11/site-packages (from distributed>=2021.06.0->dask-geopandas<1,>=0.2.0->openeo-processes-dask[implementations]) (3.0.0)\n",
      "Requirement already satisfied: six in /dss/dsstbyfs01/pn56su/pn56su-dss-0020/opt/micromamba/envs/terrabyte_base/lib/python3.11/site-packages (from fiona>=1.8.19->geopandas<1,>=0.11.1->openeo-processes-dask[implementations]) (1.16.0)\n",
      "Requirement already satisfied: zipp>=0.5 in /dss/dsstbyfs01/pn56su/pn56su-dss-0020/opt/micromamba/envs/terrabyte_base/lib/python3.11/site-packages (from importlib-metadata>=4.13.0->dask[array]>=2023.4.0->openeo-processes-dask[implementations]) (3.15.0)\n",
      "Requirement already satisfied: pyrsistent!=0.17.0,!=0.17.1,!=0.17.2,>=0.14.0 in /dss/dsstbyfs01/pn56su/pn56su-dss-0020/opt/micromamba/envs/terrabyte_base/lib/python3.11/site-packages (from jsonschema>=3.2.0->stac_validator>=3.3.1->openeo-processes-dask[implementations]) (0.19.3)\n",
      "Requirement already satisfied: tzdata>=2022.1 in /dss/dsstbyfs01/pn56su/pn56su-dss-0020/opt/micromamba/envs/terrabyte_base/lib/python3.11/site-packages (from pandas>=1.1.0->geopandas<1,>=0.11.1->openeo-processes-dask[implementations]) (2023.3)\n",
      "Requirement already satisfied: pytzdata>=2020.1 in /dss/dsshome1/04/di35gek/.local/lib/python3.11/site-packages (from pendulum<3.0.0,>=2.1.2->openeo-pg-parser-networkx>=2023.5.1->openeo-processes-dask[implementations]) (2020.1)\n",
      "Requirement already satisfied: typing-extensions>=4.2.0 in /dss/dsstbyfs01/pn56su/pn56su-dss-0020/opt/micromamba/envs/terrabyte_base/lib/python3.11/site-packages (from pydantic<2.0.0,>=1.9.1->openeo-pg-parser-networkx>=2023.5.1->openeo-processes-dask[implementations]) (4.7.1)\n",
      "Requirement already satisfied: charset-normalizer<4,>=2 in /dss/dsstbyfs01/pn56su/pn56su-dss-0020/opt/micromamba/envs/terrabyte_base/lib/python3.11/site-packages (from requests>=2.25.1->planetary_computer>=0.5.1->openeo-processes-dask[implementations]) (3.1.0)\n",
      "Requirement already satisfied: idna<4,>=2.5 in /dss/dsstbyfs01/pn56su/pn56su-dss-0020/opt/micromamba/envs/terrabyte_base/lib/python3.11/site-packages (from requests>=2.25.1->planetary_computer>=0.5.1->openeo-processes-dask[implementations]) (3.4)\n",
      "Requirement already satisfied: pyparsing>=2.1.6 in /dss/dsstbyfs01/pn56su/pn56su-dss-0020/opt/micromamba/envs/terrabyte_base/lib/python3.11/site-packages (from snuggs>=1.4.1->rasterio<2.0.0,>=1.3.4->openeo-processes-dask[implementations]) (3.1.0)\n",
      "Requirement already satisfied: MarkupSafe>=2.0 in /dss/dsstbyfs01/pn56su/pn56su-dss-0020/opt/micromamba/envs/terrabyte_base/lib/python3.11/site-packages (from jinja2>=2.10.3->distributed>=2021.06.0->dask-geopandas<1,>=0.2.0->openeo-processes-dask[implementations]) (2.1.3)\n",
      "Note: you may need to restart the kernel to use updated packages.\n"
     ]
    }
   ],
   "source": [
    "pip install openeo-processes-dask[implementations]"
   ]
  },
  {
   "cell_type": "code",
   "execution_count": 2,
   "id": "ec553f24-5326-4d3c-83e6-db0cd12d26b4",
   "metadata": {},
   "outputs": [
    {
     "name": "stdout",
     "output_type": "stream",
     "text": [
      "Defaulting to user installation because normal site-packages is not writeable\n",
      "Requirement already satisfied: openeo-processes-dask[ml] in /dss/dsshome1/04/di35gek/.local/lib/python3.11/site-packages (2023.8.1)\n",
      "Requirement already satisfied: xgboost<2.0.0,>=1.5.1 in /dss/dsshome1/04/di35gek/.local/lib/python3.11/site-packages (from openeo-processes-dask[ml]) (1.7.6)\n",
      "Requirement already satisfied: numpy in /dss/dsstbyfs01/pn56su/pn56su-dss-0020/opt/micromamba/envs/terrabyte_base/lib/python3.11/site-packages (from xgboost<2.0.0,>=1.5.1->openeo-processes-dask[ml]) (1.24.0)\n",
      "Requirement already satisfied: scipy in /dss/dsstbyfs01/pn56su/pn56su-dss-0020/opt/micromamba/envs/terrabyte_base/lib/python3.11/site-packages (from xgboost<2.0.0,>=1.5.1->openeo-processes-dask[ml]) (1.11.1)\n",
      "Note: you may need to restart the kernel to use updated packages.\n"
     ]
    }
   ],
   "source": [
    "pip install openeo-processes-dask[ml]"
   ]
  },
  {
   "cell_type": "markdown",
   "id": "c1817591-4ced-4083-a7e0-62e5f758aaef",
   "metadata": {},
   "source": [
    "# openEO test case"
   ]
  },
  {
   "cell_type": "markdown",
   "id": "c260953b-afc4-4b96-9c40-10070a4fcc53",
   "metadata": {},
   "source": [
    "## Do some imports"
   ]
  },
  {
   "cell_type": "code",
   "execution_count": 1,
   "id": "107dff6a-dc99-4751-babd-a4d612da8608",
   "metadata": {},
   "outputs": [],
   "source": [
    "import warnings\n",
    "warnings.filterwarnings('ignore')"
   ]
  },
  {
   "cell_type": "code",
   "execution_count": 2,
   "id": "3596a5db-35c8-4c14-a941-bd8c4c4a5b4c",
   "metadata": {},
   "outputs": [],
   "source": [
    "from openeo.local import LocalConnection"
   ]
  },
  {
   "cell_type": "code",
   "execution_count": 3,
   "id": "4ba5d6c6-f2f8-4821-a206-ca597a2c79b7",
   "metadata": {},
   "outputs": [
    {
     "name": "stdout",
     "output_type": "stream",
     "text": [
      "2023.8.0\n",
      "2023.8.1\n"
     ]
    }
   ],
   "source": [
    "import openeo_pg_parser_networkx\n",
    "import openeo_processes_dask\n",
    "\n",
    "print(openeo_pg_parser_networkx.__version__)\n",
    "print(openeo_processes_dask.__version__)"
   ]
  },
  {
   "cell_type": "code",
   "execution_count": 4,
   "id": "34b0868c-35c8-418f-bbc2-32e01612eea3",
   "metadata": {},
   "outputs": [],
   "source": [
    "import matplotlib.pyplot as plt"
   ]
  },
  {
   "cell_type": "markdown",
   "id": "7c467ed7-bd5a-4fc2-b3a7-20042d11d8e1",
   "metadata": {},
   "source": [
    "# Now start openEO"
   ]
  },
  {
   "cell_type": "markdown",
   "id": "19578930-16c4-4463-af06-f7eb0b223e42",
   "metadata": {},
   "source": [
    "## Connect to local backend"
   ]
  },
  {
   "cell_type": "code",
   "execution_count": 5,
   "id": "91ea38eb-2f6d-48ed-9cc8-6823c682c9fb",
   "metadata": {},
   "outputs": [],
   "source": [
    "local_conn = LocalConnection(\"./\")"
   ]
  },
  {
   "cell_type": "markdown",
   "id": "6bd8f1a0-1a55-4d8c-808f-25988cc69273",
   "metadata": {},
   "source": [
    "## Connect to STAC endpoint"
   ]
  },
  {
   "cell_type": "code",
   "execution_count": 6,
   "id": "2a1ed6aa-8279-43b4-ba4e-398f89f2105e",
   "metadata": {},
   "outputs": [],
   "source": [
    "stac_url = \"https://geoservice.dlr.de/eoc/ogc/stac/v1/\"\n",
    "\n",
    "url = stac_url + \"collections/S5P_TROPOMI_L3_P1D_O3/\"\n",
    "\n",
    "spatial_extent = {\"east\": 180.0, \"south\": -90.0,\"west\": -180.0, \"north\": 90.0}"
   ]
  },
  {
   "cell_type": "markdown",
   "id": "b21b8074-e139-439b-aa36-d807fc76c7bd",
   "metadata": {},
   "source": [
    "## Define data cube"
   ]
  },
  {
   "cell_type": "code",
   "execution_count": 7,
   "id": "afebba2a-8a42-46f7-a923-3a9c4283aa82",
   "metadata": {},
   "outputs": [],
   "source": [
    "s5p_datacube = local_conn.load_stac(\n",
    "    url=url,\n",
    "    spatial_extent=spatial_extent,\n",
    "    temporal_extent=[\"2023-09-01\", \"2023-09-15\"],\n",
    "    bands=[\"o3\"]\n",
    ")"
   ]
  },
  {
   "cell_type": "markdown",
   "id": "652809ef-d84d-4594-8194-b0c761c732b0",
   "metadata": {},
   "source": [
    "## Build Process Graph (Median O$_3$)"
   ]
  },
  {
   "cell_type": "code",
   "execution_count": 8,
   "id": "b5b203aa-4896-4ae3-8ff0-5e4ebc24cc0c",
   "metadata": {},
   "outputs": [],
   "source": [
    "task_reduce_time_median = s5p_datacube.reduce_dimension('time', reducer='median', context={\"ignore_nodata\": True})"
   ]
  },
  {
   "cell_type": "code",
   "execution_count": 9,
   "id": "9b8d89c9-4c62-4f7a-94b3-9bdfaf2b6209",
   "metadata": {},
   "outputs": [],
   "source": [
    "task_reduce_lon_median = task_reduce_time_median.reduce_dimension('x', reducer='median', context={\"ignore_nodata\": True})"
   ]
  },
  {
   "cell_type": "markdown",
   "id": "1a7ad4be-051b-4501-924a-792fbcde76f8",
   "metadata": {},
   "source": [
    "### Show Process Graph (Visual Representation)"
   ]
  },
  {
   "cell_type": "code",
   "execution_count": 10,
   "id": "cb4e591b-1783-459f-b149-ec801b225731",
   "metadata": {},
   "outputs": [
    {
     "data": {
      "text/html": [
       "\n",
       "    <script>\n",
       "    if (!window.customElements || !window.customElements.get('openeo-model-builder')) {\n",
       "        var el = document.createElement('script');\n",
       "        el.src = \"https://cdn.jsdelivr.net/npm/@openeo/vue-components@2/assets/openeo.min.js\";\n",
       "        document.head.appendChild(el);\n",
       "\n",
       "        var font = document.createElement('font');\n",
       "        font.as = \"font\";\n",
       "        font.type = \"font/woff2\";\n",
       "        font.crossOrigin = true;\n",
       "        font.href = \"https://use.fontawesome.com/releases/v5.13.0/webfonts/fa-solid-900.woff2\"\n",
       "        document.head.appendChild(font);\n",
       "    }\n",
       "    </script>\n",
       "    <openeo-model-builder>\n",
       "        <script type=\"application/json\">{\"id\": \"f2fae75091fa46feb8576c2dff0781f7\", \"explicit-zoom\": true, \"height\": \"400px\", \"value\": {\"process_graph\": {\"loadstac1\": {\"process_id\": \"load_stac\", \"arguments\": {\"bands\": [\"o3\"], \"spatial_extent\": {\"east\": 180.0, \"south\": -90.0, \"west\": -180.0, \"north\": 90.0}, \"temporal_extent\": [\"2023-09-01\", \"2023-09-15\"], \"url\": \"https://geoservice.dlr.de/eoc/ogc/stac/v1/collections/S5P_TROPOMI_L3_P1D_O3/\"}}, \"reducedimension1\": {\"process_id\": \"reduce_dimension\", \"arguments\": {\"context\": {\"ignore_nodata\": true}, \"data\": {\"from_node\": \"loadstac1\"}, \"dimension\": \"time\", \"reducer\": {\"process_graph\": {\"median1\": {\"process_id\": \"median\", \"arguments\": {\"data\": {\"from_parameter\": \"data\"}}, \"result\": true}}}}}, \"reducedimension2\": {\"process_id\": \"reduce_dimension\", \"arguments\": {\"context\": {\"ignore_nodata\": true}, \"data\": {\"from_node\": \"reducedimension1\"}, \"dimension\": \"x\", \"reducer\": {\"process_graph\": {\"median2\": {\"process_id\": \"median\", \"arguments\": {\"data\": {\"from_parameter\": \"data\"}}, \"result\": true}}}}, \"result\": true}}}}</script>\n",
       "    </openeo-model-builder>\n",
       "    "
      ],
      "text/plain": [
       "<openeo.rest.datacube.DataCube at 0x14c49d450e90>"
      ]
     },
     "execution_count": 10,
     "metadata": {},
     "output_type": "execute_result"
    }
   ],
   "source": [
    "task_reduce_lon_median"
   ]
  },
  {
   "cell_type": "markdown",
   "id": "55b3c579-a0c6-4ac3-a364-a0b61c9f19d6",
   "metadata": {
    "jp-MarkdownHeadingCollapsed": true
   },
   "source": [
    "### Show Process Graph (JSON)"
   ]
  },
  {
   "cell_type": "code",
   "execution_count": 11,
   "id": "972a538a-605f-4489-949b-35a0870b0d2d",
   "metadata": {},
   "outputs": [
    {
     "name": "stdout",
     "output_type": "stream",
     "text": [
      "{\n",
      "  \"process_graph\": {\n",
      "    \"loadstac1\": {\n",
      "      \"process_id\": \"load_stac\",\n",
      "      \"arguments\": {\n",
      "        \"bands\": [\n",
      "          \"o3\"\n",
      "        ],\n",
      "        \"spatial_extent\": {\n",
      "          \"east\": 180.0,\n",
      "          \"south\": -90.0,\n",
      "          \"west\": -180.0,\n",
      "          \"north\": 90.0\n",
      "        },\n",
      "        \"temporal_extent\": [\n",
      "          \"2023-09-01\",\n",
      "          \"2023-09-15\"\n",
      "        ],\n",
      "        \"url\": \"https://geoservice.dlr.de/eoc/ogc/stac/v1/collections/S5P_TROPOMI_L3_P1D_O3/\"\n",
      "      }\n",
      "    },\n",
      "    \"reducedimension1\": {\n",
      "      \"process_id\": \"reduce_dimension\",\n",
      "      \"arguments\": {\n",
      "        \"context\": {\n",
      "          \"ignore_nodata\": true\n",
      "        },\n",
      "        \"data\": {\n",
      "          \"from_node\": \"loadstac1\"\n",
      "        },\n",
      "        \"dimension\": \"time\",\n",
      "        \"reducer\": {\n",
      "          \"process_graph\": {\n",
      "            \"median1\": {\n",
      "              \"process_id\": \"median\",\n",
      "              \"arguments\": {\n",
      "                \"data\": {\n",
      "                  \"from_parameter\": \"data\"\n",
      "                }\n",
      "              },\n",
      "              \"result\": true\n",
      "            }\n",
      "          }\n",
      "        }\n",
      "      }\n",
      "    },\n",
      "    \"reducedimension2\": {\n",
      "      \"process_id\": \"reduce_dimension\",\n",
      "      \"arguments\": {\n",
      "        \"context\": {\n",
      "          \"ignore_nodata\": true\n",
      "        },\n",
      "        \"data\": {\n",
      "          \"from_node\": \"reducedimension1\"\n",
      "        },\n",
      "        \"dimension\": \"x\",\n",
      "        \"reducer\": {\n",
      "          \"process_graph\": {\n",
      "            \"median2\": {\n",
      "              \"process_id\": \"median\",\n",
      "              \"arguments\": {\n",
      "                \"data\": {\n",
      "                  \"from_parameter\": \"data\"\n",
      "                }\n",
      "              },\n",
      "              \"result\": true\n",
      "            }\n",
      "          }\n",
      "        }\n",
      "      },\n",
      "      \"result\": true\n",
      "    }\n",
      "  }\n",
      "}\n"
     ]
    }
   ],
   "source": [
    "print (task_reduce_lon_median.to_json())"
   ]
  },
  {
   "cell_type": "markdown",
   "id": "8b610050-de1e-40ce-881c-048403324847",
   "metadata": {},
   "source": [
    "## Execute Process Graph (Median O$_3$) and Show Result"
   ]
  },
  {
   "cell_type": "code",
   "execution_count": 12,
   "id": "070fff96-18c3-4dab-bfde-1eec44b7ea6d",
   "metadata": {},
   "outputs": [],
   "source": [
    "result_median = task_reduce_lon_median.execute()"
   ]
  },
  {
   "cell_type": "code",
   "execution_count": 13,
   "id": "6fdcd846-9ea6-4f9c-b227-90896535eb91",
   "metadata": {},
   "outputs": [
    {
     "data": {
      "text/plain": [
       "Text(0, 0.5, 'Latitude [deg]')"
      ]
     },
     "execution_count": 13,
     "metadata": {},
     "output_type": "execute_result"
    },
    {
     "data": {
      "image/png": "[encoded data removed]",
      "text/plain": [
       "<Figure size 750x500 with 1 Axes>"
      ]
     },
     "metadata": {},
     "output_type": "display_data"
    }
   ],
   "source": [
    "fig, ax = plt.subplots(1,1,figsize=(7.5,5))\n",
    "ax.plot(result_median.values[0],result_median[\"y\"][:])\n",
    "ax.set_title (\"Median of O3 VCD [DU] as function of latitude\")\n",
    "ax.set_xlabel (\"O3 VCD [DU]\")\n",
    "ax.set_ylabel (\"Latitude [deg]\")"
   ]
  },
  {
   "cell_type": "markdown",
   "id": "df734e02-0df3-4456-a8c6-5dd538575b49",
   "metadata": {},
   "source": [
    "## Build Process Graph (Mean O$_3$)"
   ]
  },
  {
   "cell_type": "code",
   "execution_count": 14,
   "id": "7063153b-1647-42b9-b35c-b9c27b301eb9",
   "metadata": {},
   "outputs": [],
   "source": [
    "task_reduce_time_mean = s5p_datacube.reduce_dimension('time', reducer='mean')"
   ]
  },
  {
   "cell_type": "code",
   "execution_count": 15,
   "id": "b64a3659-0325-406b-b844-5ce7c791a3a3",
   "metadata": {},
   "outputs": [],
   "source": [
    "task_reduce_lon_mean = task_reduce_time_mean.reduce_dimension('x', reducer='mean')"
   ]
  },
  {
   "cell_type": "markdown",
   "id": "23341893-9cfb-4dab-bb49-808dec7efd4d",
   "metadata": {},
   "source": [
    "### Process Graph: Visual Representation"
   ]
  },
  {
   "cell_type": "code",
   "execution_count": 16,
   "id": "e5b00887-c568-49e6-a3d6-4a3515481dae",
   "metadata": {},
   "outputs": [
    {
     "data": {
      "text/html": [
       "\n",
       "    <script>\n",
       "    if (!window.customElements || !window.customElements.get('openeo-model-builder')) {\n",
       "        var el = document.createElement('script');\n",
       "        el.src = \"https://cdn.jsdelivr.net/npm/@openeo/vue-components@2/assets/openeo.min.js\";\n",
       "        document.head.appendChild(el);\n",
       "\n",
       "        var font = document.createElement('font');\n",
       "        font.as = \"font\";\n",
       "        font.type = \"font/woff2\";\n",
       "        font.crossOrigin = true;\n",
       "        font.href = \"https://use.fontawesome.com/releases/v5.13.0/webfonts/fa-solid-900.woff2\"\n",
       "        document.head.appendChild(font);\n",
       "    }\n",
       "    </script>\n",
       "    <openeo-model-builder>\n",
       "        <script type=\"application/json\">{\"id\": \"339843a3db7e4c56bbaf917b6784bebf\", \"explicit-zoom\": true, \"height\": \"400px\", \"value\": {\"process_graph\": {\"loadstac1\": {\"process_id\": \"load_stac\", \"arguments\": {\"bands\": [\"o3\"], \"spatial_extent\": {\"east\": 180.0, \"south\": -90.0, \"west\": -180.0, \"north\": 90.0}, \"temporal_extent\": [\"2023-09-01\", \"2023-09-15\"], \"url\": \"https://geoservice.dlr.de/eoc/ogc/stac/v1/collections/S5P_TROPOMI_L3_P1D_O3/\"}}, \"reducedimension1\": {\"process_id\": \"reduce_dimension\", \"arguments\": {\"data\": {\"from_node\": \"loadstac1\"}, \"dimension\": \"time\", \"reducer\": {\"process_graph\": {\"mean1\": {\"process_id\": \"mean\", \"arguments\": {\"data\": {\"from_parameter\": \"data\"}}, \"result\": true}}}}}, \"reducedimension2\": {\"process_id\": \"reduce_dimension\", \"arguments\": {\"data\": {\"from_node\": \"reducedimension1\"}, \"dimension\": \"x\", \"reducer\": {\"process_graph\": {\"mean2\": {\"process_id\": \"mean\", \"arguments\": {\"data\": {\"from_parameter\": \"data\"}}, \"result\": true}}}}, \"result\": true}}}}</script>\n",
       "    </openeo-model-builder>\n",
       "    "
      ],
      "text/plain": [
       "<openeo.rest.datacube.DataCube at 0x14c49d1d05d0>"
      ]
     },
     "execution_count": 16,
     "metadata": {},
     "output_type": "execute_result"
    }
   ],
   "source": [
    "task_reduce_lon_mean"
   ]
  },
  {
   "cell_type": "markdown",
   "id": "3f200937-1da5-4ef7-8f98-e3c5c1d3af4f",
   "metadata": {
    "jp-MarkdownHeadingCollapsed": true
   },
   "source": [
    "### Process Graph: JSON Representation"
   ]
  },
  {
   "cell_type": "code",
   "execution_count": 17,
   "id": "96ad1035-f4bc-4fd0-9804-4d1b8d9b48ad",
   "metadata": {},
   "outputs": [
    {
     "name": "stdout",
     "output_type": "stream",
     "text": [
      "{\n",
      "  \"process_graph\": {\n",
      "    \"loadstac1\": {\n",
      "      \"process_id\": \"load_stac\",\n",
      "      \"arguments\": {\n",
      "        \"bands\": [\n",
      "          \"o3\"\n",
      "        ],\n",
      "        \"spatial_extent\": {\n",
      "          \"east\": 180.0,\n",
      "          \"south\": -90.0,\n",
      "          \"west\": -180.0,\n",
      "          \"north\": 90.0\n",
      "        },\n",
      "        \"temporal_extent\": [\n",
      "          \"2023-09-01\",\n",
      "          \"2023-09-15\"\n",
      "        ],\n",
      "        \"url\": \"https://geoservice.dlr.de/eoc/ogc/stac/v1/collections/S5P_TROPOMI_L3_P1D_O3/\"\n",
      "      }\n",
      "    },\n",
      "    \"reducedimension1\": {\n",
      "      \"process_id\": \"reduce_dimension\",\n",
      "      \"arguments\": {\n",
      "        \"data\": {\n",
      "          \"from_node\": \"loadstac1\"\n",
      "        },\n",
      "        \"dimension\": \"time\",\n",
      "        \"reducer\": {\n",
      "          \"process_graph\": {\n",
      "            \"mean1\": {\n",
      "              \"process_id\": \"mean\",\n",
      "              \"arguments\": {\n",
      "                \"data\": {\n",
      "                  \"from_parameter\": \"data\"\n",
      "                }\n",
      "              },\n",
      "              \"result\": true\n",
      "            }\n",
      "          }\n",
      "        }\n",
      "      }\n",
      "    },\n",
      "    \"reducedimension2\": {\n",
      "      \"process_id\": \"reduce_dimension\",\n",
      "      \"arguments\": {\n",
      "        \"data\": {\n",
      "          \"from_node\": \"reducedimension1\"\n",
      "        },\n",
      "        \"dimension\": \"x\",\n",
      "        \"reducer\": {\n",
      "          \"process_graph\": {\n",
      "            \"mean2\": {\n",
      "              \"process_id\": \"mean\",\n",
      "              \"arguments\": {\n",
      "                \"data\": {\n",
      "                  \"from_parameter\": \"data\"\n",
      "                }\n",
      "              },\n",
      "              \"result\": true\n",
      "            }\n",
      "          }\n",
      "        }\n",
      "      },\n",
      "      \"result\": true\n",
      "    }\n",
      "  }\n",
      "}\n"
     ]
    }
   ],
   "source": [
    "print (task_reduce_lon_mean.to_json())"
   ]
  },
  {
   "cell_type": "markdown",
   "id": "1cec5434-1835-4a6d-9f1c-374db0b3d115",
   "metadata": {},
   "source": [
    "## Execute process graph (Mean O$_3$) and Show Result"
   ]
  },
  {
   "cell_type": "code",
   "execution_count": 18,
   "id": "1d164212-0537-4545-9c7e-989c598c571f",
   "metadata": {},
   "outputs": [],
   "source": [
    "result_mean = task_reduce_lon_mean.execute()"
   ]
  },
  {
   "cell_type": "code",
   "execution_count": 19,
   "id": "3c3be1a7-1005-41c3-a4cd-d1b9344a9563",
   "metadata": {},
   "outputs": [
    {
     "data": {
      "text/plain": [
       "(-90.0, 90.0)"
      ]
     },
     "execution_count": 19,
     "metadata": {},
     "output_type": "execute_result"
    },
    {
     "data": {
      "image/png": "[encoded data removed]",
      "text/plain": [
       "<Figure size 750x500 with 2 Axes>"
      ]
     },
     "metadata": {},
     "output_type": "display_data"
    }
   ],
   "source": [
    "import matplotlib.pyplot as plt\n",
    "fig, ax = plt.subplots(1,2,figsize=(7.5,5))\n",
    "ax[0].plot(result_mean.values[0],result_mean[\"y\"][:])\n",
    "ax[0].set_title (\"Mean O3 VCD [DU] as function of latitude\")\n",
    "ax[0].set_xlabel (\"O3 VCD [DU]\")\n",
    "ax[0].set_ylabel (\"Latitude [deg]\")\n",
    "ax[0].set_ylim ([-90, 90])\n",
    "\n",
    "ax[1].plot(result_median.values[0],result_mean[\"y\"][:])\n",
    "ax[1].set_title (\"Median O3 VCD [DU] as function of latitude\")\n",
    "ax[1].set_xlabel (\"O3 VCD [DU]\")\n",
    "ax[1].set_ylabel (\"Latitude [deg]\")\n",
    "ax[1].set_ylim ([-90, 90])"
   ]
  },
  {
   "cell_type": "markdown",
   "id": "617db785-2c16-4421-9dd5-f28eb15b86df",
   "metadata": {},
   "source": [
    "## Data Structure of result_mean"
   ]
  },
  {
   "cell_type": "code",
   "execution_count": 20,
   "id": "920a0747-3165-40f5-976f-71586d942470",
   "metadata": {},
   "outputs": [
    {
     "data": {
      "text/html": [
       "<div><svg style=\"position: absolute; width: 0; height: 0; overflow: hidden\">\n",
       "<defs>\n",
       "<symbol id=\"icon-database\" viewBox=\"0 0 32 32\">\n",
       "<path d=\"M16 0c-8.837 0-16 2.239-16 5v4c0 2.761 7.163 5 16 5s16-2.239 16-5v-4c0-2.761-7.163-5-16-5z\"></path>\n",
       "<path d=\"M16 17c-8.837 0-16-2.239-16-5v6c0 2.761 7.163 5 16 5s16-2.239 16-5v-6c0 2.761-7.163 5-16 5z\"></path>\n",
       "<path d=\"M16 26c-8.837 0-16-2.239-16-5v6c0 2.761 7.163 5 16 5s16-2.239 16-5v-6c0 2.761-7.163 5-16 5z\"></path>\n",
       "</symbol>\n",
       "<symbol id=\"icon-file-text2\" viewBox=\"0 0 32 32\">\n",
       "<path d=\"M28.681 7.159c-0.694-0.947-1.662-2.053-2.724-3.116s-2.169-2.030-3.116-2.724c-1.612-1.182-2.393-1.319-2.841-1.319h-15.5c-1.378 0-2.5 1.121-2.5 2.5v27c0 1.378 1.122 2.5 2.5 2.5h23c1.378 0 2.5-1.122 2.5-2.5v-19.5c0-0.448-0.137-1.23-1.319-2.841zM24.543 5.457c0.959 0.959 1.712 1.825 2.268 2.543h-4.811v-4.811c0.718 0.556 1.584 1.309 2.543 2.268zM28 29.5c0 0.271-0.229 0.5-0.5 0.5h-23c-0.271 0-0.5-0.229-0.5-0.5v-27c0-0.271 0.229-0.5 0.5-0.5 0 0 15.499-0 15.5 0v7c0 0.552 0.448 1 1 1h7v19.5z\"></path>\n",
       "<path d=\"M23 26h-14c-0.552 0-1-0.448-1-1s0.448-1 1-1h14c0.552 0 1 0.448 1 1s-0.448 1-1 1z\"></path>\n",
       "<path d=\"M23 22h-14c-0.552 0-1-0.448-1-1s0.448-1 1-1h14c0.552 0 1 0.448 1 1s-0.448 1-1 1z\"></path>\n",
       "<path d=\"M23 18h-14c-0.552 0-1-0.448-1-1s0.448-1 1-1h14c0.552 0 1 0.448 1 1s-0.448 1-1 1z\"></path>\n",
       "</symbol>\n",
       "</defs>\n",
       "</svg>\n",
       "<style>/* CSS stylesheet for displaying xarray objects in jupyterlab.\n",
       " *\n",
       " */\n",
       "\n",
       ":root {\n",
       "  --xr-font-color0: var(--jp-content-font-color0, rgba(0, 0, 0, 1));\n",
       "  --xr-font-color2: var(--jp-content-font-color2, rgba(0, 0, 0, 0.54));\n",
       "  --xr-font-color3: var(--jp-content-font-color3, rgba(0, 0, 0, 0.38));\n",
       "  --xr-border-color: var(--jp-border-color2, #e0e0e0);\n",
       "  --xr-disabled-color: var(--jp-layout-color3, #bdbdbd);\n",
       "  --xr-background-color: var(--jp-layout-color0, white);\n",
       "  --xr-background-color-row-even: var(--jp-layout-color1, white);\n",
       "  --xr-background-color-row-odd: var(--jp-layout-color2, #eeeeee);\n",
       "}\n",
       "\n",
       "html[theme=dark],\n",
       "body[data-theme=dark],\n",
       "body.vscode-dark {\n",
       "  --xr-font-color0: rgba(255, 255, 255, 1);\n",
       "  --xr-font-color2: rgba(255, 255, 255, 0.54);\n",
       "  --xr-font-color3: rgba(255, 255, 255, 0.38);\n",
       "  --xr-border-color: #1F1F1F;\n",
       "  --xr-disabled-color: #515151;\n",
       "  --xr-background-color: #111111;\n",
       "  --xr-background-color-row-even: #111111;\n",
       "  --xr-background-color-row-odd: #313131;\n",
       "}\n",
       "\n",
       ".xr-wrap {\n",
       "  display: block !important;\n",
       "  min-width: 300px;\n",
       "  max-width: 700px;\n",
       "}\n",
       "\n",
       ".xr-text-repr-fallback {\n",
       "  /* fallback to plain text repr when CSS is not injected (untrusted notebook) */\n",
       "  display: none;\n",
       "}\n",
       "\n",
       ".xr-header {\n",
       "  padding-top: 6px;\n",
       "  padding-bottom: 6px;\n",
       "  margin-bottom: 4px;\n",
       "  border-bottom: solid 1px var(--xr-border-color);\n",
       "}\n",
       "\n",
       ".xr-header > div,\n",
       ".xr-header > ul {\n",
       "  display: inline;\n",
       "  margin-top: 0;\n",
       "  margin-bottom: 0;\n",
       "}\n",
       "\n",
       ".xr-obj-type,\n",
       ".xr-array-name {\n",
       "  margin-left: 2px;\n",
       "  margin-right: 10px;\n",
       "}\n",
       "\n",
       ".xr-obj-type {\n",
       "  color: var(--xr-font-color2);\n",
       "}\n",
       "\n",
       ".xr-sections {\n",
       "  padding-left: 0 !important;\n",
       "  display: grid;\n",
       "  grid-template-columns: 150px auto auto 1fr 20px 20px;\n",
       "}\n",
       "\n",
       ".xr-section-item {\n",
       "  display: contents;\n",
       "}\n",
       "\n",
       ".xr-section-item input {\n",
       "  display: none;\n",
       "}\n",
       "\n",
       ".xr-section-item input + label {\n",
       "  color: var(--xr-disabled-color);\n",
       "}\n",
       "\n",
       ".xr-section-item input:enabled + label {\n",
       "  cursor: pointer;\n",
       "  color: var(--xr-font-color2);\n",
       "}\n",
       "\n",
       ".xr-section-item input:enabled + label:hover {\n",
       "  color: var(--xr-font-color0);\n",
       "}\n",
       "\n",
       ".xr-section-summary {\n",
       "  grid-column: 1;\n",
       "  color: var(--xr-font-color2);\n",
       "  font-weight: 500;\n",
       "}\n",
       "\n",
       ".xr-section-summary > span {\n",
       "  display: inline-block;\n",
       "  padding-left: 0.5em;\n",
       "}\n",
       "\n",
       ".xr-section-summary-in:disabled + label {\n",
       "  color: var(--xr-font-color2);\n",
       "}\n",
       "\n",
       ".xr-section-summary-in + label:before {\n",
       "  display: inline-block;\n",
       "  content: '►';\n",
       "  font-size: 11px;\n",
       "  width: 15px;\n",
       "  text-align: center;\n",
       "}\n",
       "\n",
       ".xr-section-summary-in:disabled + label:before {\n",
       "  color: var(--xr-disabled-color);\n",
       "}\n",
       "\n",
       ".xr-section-summary-in:checked + label:before {\n",
       "  content: '▼';\n",
       "}\n",
       "\n",
       ".xr-section-summary-in:checked + label > span {\n",
       "  display: none;\n",
       "}\n",
       "\n",
       ".xr-section-summary,\n",
       ".xr-section-inline-details {\n",
       "  padding-top: 4px;\n",
       "  padding-bottom: 4px;\n",
       "}\n",
       "\n",
       ".xr-section-inline-details {\n",
       "  grid-column: 2 / -1;\n",
       "}\n",
       "\n",
       ".xr-section-details {\n",
       "  display: none;\n",
       "  grid-column: 1 / -1;\n",
       "  margin-bottom: 5px;\n",
       "}\n",
       "\n",
       ".xr-section-summary-in:checked ~ .xr-section-details {\n",
       "  display: contents;\n",
       "}\n",
       "\n",
       ".xr-array-wrap {\n",
       "  grid-column: 1 / -1;\n",
       "  display: grid;\n",
       "  grid-template-columns: 20px auto;\n",
       "}\n",
       "\n",
       ".xr-array-wrap > label {\n",
       "  grid-column: 1;\n",
       "  vertical-align: top;\n",
       "}\n",
       "\n",
       ".xr-preview {\n",
       "  color: var(--xr-font-color3);\n",
       "}\n",
       "\n",
       ".xr-array-preview,\n",
       ".xr-array-data {\n",
       "  padding: 0 5px !important;\n",
       "  grid-column: 2;\n",
       "}\n",
       "\n",
       ".xr-array-data,\n",
       ".xr-array-in:checked ~ .xr-array-preview {\n",
       "  display: none;\n",
       "}\n",
       "\n",
       ".xr-array-in:checked ~ .xr-array-data,\n",
       ".xr-array-preview {\n",
       "  display: inline-block;\n",
       "}\n",
       "\n",
       ".xr-dim-list {\n",
       "  display: inline-block !important;\n",
       "  list-style: none;\n",
       "  padding: 0 !important;\n",
       "  margin: 0;\n",
       "}\n",
       "\n",
       ".xr-dim-list li {\n",
       "  display: inline-block;\n",
       "  padding: 0;\n",
       "  margin: 0;\n",
       "}\n",
       "\n",
       ".xr-dim-list:before {\n",
       "  content: '(';\n",
       "}\n",
       "\n",
       ".xr-dim-list:after {\n",
       "  content: ')';\n",
       "}\n",
       "\n",
       ".xr-dim-list li:not(:last-child):after {\n",
       "  content: ',';\n",
       "  padding-right: 5px;\n",
       "}\n",
       "\n",
       ".xr-has-index {\n",
       "  font-weight: bold;\n",
       "}\n",
       "\n",
       ".xr-var-list,\n",
       ".xr-var-item {\n",
       "  display: contents;\n",
       "}\n",
       "\n",
       ".xr-var-item > div,\n",
       ".xr-var-item label,\n",
       ".xr-var-item > .xr-var-name span {\n",
       "  background-color: var(--xr-background-color-row-even);\n",
       "  margin-bottom: 0;\n",
       "}\n",
       "\n",
       ".xr-var-item > .xr-var-name:hover span {\n",
       "  padding-right: 5px;\n",
       "}\n",
       "\n",
       ".xr-var-list > li:nth-child(odd) > div,\n",
       ".xr-var-list > li:nth-child(odd) > label,\n",
       ".xr-var-list > li:nth-child(odd) > .xr-var-name span {\n",
       "  background-color: var(--xr-background-color-row-odd);\n",
       "}\n",
       "\n",
       ".xr-var-name {\n",
       "  grid-column: 1;\n",
       "}\n",
       "\n",
       ".xr-var-dims {\n",
       "  grid-column: 2;\n",
       "}\n",
       "\n",
       ".xr-var-dtype {\n",
       "  grid-column: 3;\n",
       "  text-align: right;\n",
       "  color: var(--xr-font-color2);\n",
       "}\n",
       "\n",
       ".xr-var-preview {\n",
       "  grid-column: 4;\n",
       "}\n",
       "\n",
       ".xr-index-preview {\n",
       "  grid-column: 2 / 5;\n",
       "  color: var(--xr-font-color2);\n",
       "}\n",
       "\n",
       ".xr-var-name,\n",
       ".xr-var-dims,\n",
       ".xr-var-dtype,\n",
       ".xr-preview,\n",
       ".xr-attrs dt {\n",
       "  white-space: nowrap;\n",
       "  overflow: hidden;\n",
       "  text-overflow: ellipsis;\n",
       "  padding-right: 10px;\n",
       "}\n",
       "\n",
       ".xr-var-name:hover,\n",
       ".xr-var-dims:hover,\n",
       ".xr-var-dtype:hover,\n",
       ".xr-attrs dt:hover {\n",
       "  overflow: visible;\n",
       "  width: auto;\n",
       "  z-index: 1;\n",
       "}\n",
       "\n",
       ".xr-var-attrs,\n",
       ".xr-var-data,\n",
       ".xr-index-data {\n",
       "  display: none;\n",
       "  background-color: var(--xr-background-color) !important;\n",
       "  padding-bottom: 5px !important;\n",
       "}\n",
       "\n",
       ".xr-var-attrs-in:checked ~ .xr-var-attrs,\n",
       ".xr-var-data-in:checked ~ .xr-var-data,\n",
       ".xr-index-data-in:checked ~ .xr-index-data {\n",
       "  display: block;\n",
       "}\n",
       "\n",
       ".xr-var-data > table {\n",
       "  float: right;\n",
       "}\n",
       "\n",
       ".xr-var-name span,\n",
       ".xr-var-data,\n",
       ".xr-index-name div,\n",
       ".xr-index-data,\n",
       ".xr-attrs {\n",
       "  padding-left: 25px !important;\n",
       "}\n",
       "\n",
       ".xr-attrs,\n",
       ".xr-var-attrs,\n",
       ".xr-var-data,\n",
       ".xr-index-data {\n",
       "  grid-column: 1 / -1;\n",
       "}\n",
       "\n",
       "dl.xr-attrs {\n",
       "  padding: 0;\n",
       "  margin: 0;\n",
       "  display: grid;\n",
       "  grid-template-columns: 125px auto;\n",
       "}\n",
       "\n",
       ".xr-attrs dt,\n",
       ".xr-attrs dd {\n",
       "  padding: 0;\n",
       "  margin: 0;\n",
       "  float: left;\n",
       "  padding-right: 10px;\n",
       "  width: auto;\n",
       "}\n",
       "\n",
       ".xr-attrs dt {\n",
       "  font-weight: normal;\n",
       "  grid-column: 1;\n",
       "}\n",
       "\n",
       ".xr-attrs dt:hover span {\n",
       "  display: inline-block;\n",
       "  background: var(--xr-background-color);\n",
       "  padding-right: 10px;\n",
       "}\n",
       "\n",
       ".xr-attrs dd {\n",
       "  grid-column: 2;\n",
       "  white-space: pre-wrap;\n",
       "  word-break: break-all;\n",
       "}\n",
       "\n",
       ".xr-icon-database,\n",
       ".xr-icon-file-text2,\n",
       ".xr-no-icon {\n",
       "  display: inline-block;\n",
       "  vertical-align: middle;\n",
       "  width: 1em;\n",
       "  height: 1.5em !important;\n",
       "  stroke-width: 0;\n",
       "  stroke: currentColor;\n",
       "  fill: currentColor;\n",
       "}\n",
       "</style><pre class='xr-text-repr-fallback'>&lt;xarray.DataArray &#x27;stackstac-01183a025125420496494548fcd8964e&#x27; (band: 1, y: 1800)&gt;\n",
       "dask.array&lt;mean_agg-aggregate, shape=(1, 1800), dtype=float64, chunksize=(1, 1024), chunktype=numpy.ndarray&gt;\n",
       "Coordinates: (12/23)\n",
       "  * band                                 (band) &lt;U2 &#x27;o3&#x27;\n",
       "  * y                                    (y) float64 90.0 89.9 ... -89.8 -89.9\n",
       "    proj:epsg                            int64 4326\n",
       "    s5p:head_facility                    &lt;U29 &#x27;German Aerospace Center (DLR)&#x27;\n",
       "    s5p:south_pole_ozone_hole_area_unit  &lt;U3 &#x27;km2&#x27;\n",
       "    s5p:product_name                     &lt;U2 &#x27;o3&#x27;\n",
       "    ...                                   ...\n",
       "    s5p:datasource                       &lt;U48 &#x27;Sentinel-5P, TROPOMI, space-bo...\n",
       "    s5p:processing_mode                  &lt;U4 &#x27;NRTI&#x27;\n",
       "    s5p:spatial_resolution               &lt;U13 &#x27;5.5 x 3.5 km2&#x27;\n",
       "    title                                &lt;U2 &#x27;O3&#x27;\n",
       "    description                          &lt;U104 &#x27;TROPOMI/S5P L3 data of ozone ...\n",
       "    epsg                                 int64 4326\n",
       "Attributes:\n",
       "    spec:                           RasterSpec(epsg=4326, bounds=(-180.0, -90...\n",
       "    crs:                            epsg:4326\n",
       "    transform:                      | 0.10, 0.00,-180.00|\\n| 0.00,-0.10, 90.0...\n",
       "    resolution:                     0.1\n",
       "    reduced_dimensions_min_values:  {&#x27;time&#x27;: numpy.datetime64(&#x27;2023-09-01T00:...</pre><div class='xr-wrap' style='display:none'><div class='xr-header'><div class='xr-obj-type'>xarray.DataArray</div><div class='xr-array-name'>'stackstac-01183a025125420496494548fcd8964e'</div><ul class='xr-dim-list'><li><span class='xr-has-index'>band</span>: 1</li><li><span class='xr-has-index'>y</span>: 1800</li></ul></div><ul class='xr-sections'><li class='xr-section-item'><div class='xr-array-wrap'><input id='section-a5fb0a5b-b4ef-4056-9cca-eb72724040b1' class='xr-array-in' type='checkbox' checked><label for='section-a5fb0a5b-b4ef-4056-9cca-eb72724040b1' title='Show/hide data repr'><svg class='icon xr-icon-database'><use xlink:href='#icon-database'></use></svg></label><div class='xr-array-preview xr-preview'><span>dask.array&lt;chunksize=(1, 1024), meta=np.ndarray&gt;</span></div><div class='xr-array-data'><table>\n",
       "    <tr>\n",
       "        <td>\n",
       "            <table style=\"border-collapse: collapse;\">\n",
       "                <thead>\n",
       "                    <tr>\n",
       "                        <td> </td>\n",
       "                        <th> Array </th>\n",
       "                        <th> Chunk </th>\n",
       "                    </tr>\n",
       "                </thead>\n",
       "                <tbody>\n",
       "                    \n",
       "                    <tr>\n",
       "                        <th> Bytes </th>\n",
       "                        <td> 14.06 kiB </td>\n",
       "                        <td> 8.00 kiB </td>\n",
       "                    </tr>\n",
       "                    \n",
       "                    <tr>\n",
       "                        <th> Shape </th>\n",
       "                        <td> (1, 1800) </td>\n",
       "                        <td> (1, 1024) </td>\n",
       "                    </tr>\n",
       "                    <tr>\n",
       "                        <th> Dask graph </th>\n",
       "                        <td colspan=\"2\"> 2 chunks in 8 graph layers </td>\n",
       "                    </tr>\n",
       "                    <tr>\n",
       "                        <th> Data type </th>\n",
       "                        <td colspan=\"2\"> float64 numpy.ndarray </td>\n",
       "                    </tr>\n",
       "                </tbody>\n",
       "            </table>\n",
       "        </td>\n",
       "        <td>\n",
       "        <svg width=\"170\" height=\"75\" style=\"stroke:rgb(0,0,0);stroke-width:1\" >\n",
       "\n",
       "  <!-- Horizontal lines -->\n",
       "  <line x1=\"0\" y1=\"0\" x2=\"120\" y2=\"0\" style=\"stroke-width:2\" />\n",
       "  <line x1=\"0\" y1=\"25\" x2=\"120\" y2=\"25\" style=\"stroke-width:2\" />\n",
       "\n",
       "  <!-- Vertical lines -->\n",
       "  <line x1=\"0\" y1=\"0\" x2=\"0\" y2=\"25\" style=\"stroke-width:2\" />\n",
       "  <line x1=\"68\" y1=\"0\" x2=\"68\" y2=\"25\" />\n",
       "  <line x1=\"120\" y1=\"0\" x2=\"120\" y2=\"25\" style=\"stroke-width:2\" />\n",
       "\n",
       "  <!-- Colored Rectangle -->\n",
       "  <polygon points=\"0.0,0.0 120.0,0.0 120.0,25.412616514582485 0.0,25.412616514582485\" style=\"fill:#ECB172A0;stroke-width:0\"/>\n",
       "\n",
       "  <!-- Text -->\n",
       "  <text x=\"60.000000\" y=\"45.412617\" font-size=\"1.0rem\" font-weight=\"100\" text-anchor=\"middle\" >1800</text>\n",
       "  <text x=\"140.000000\" y=\"12.706308\" font-size=\"1.0rem\" font-weight=\"100\" text-anchor=\"middle\" transform=\"rotate(0,140.000000,12.706308)\">1</text>\n",
       "</svg>\n",
       "        </td>\n",
       "    </tr>\n",
       "</table></div></div></li><li class='xr-section-item'><input id='section-e7ce7bce-7ab0-446c-ba2c-87a77148cebf' class='xr-section-summary-in' type='checkbox'  checked><label for='section-e7ce7bce-7ab0-446c-ba2c-87a77148cebf' class='xr-section-summary' >Coordinates: <span>(23)</span></label><div class='xr-section-inline-details'></div><div class='xr-section-details'><ul class='xr-var-list'><li class='xr-var-item'><div class='xr-var-name'><span class='xr-has-index'>band</span></div><div class='xr-var-dims'>(band)</div><div class='xr-var-dtype'>&lt;U2</div><div class='xr-var-preview xr-preview'>&#x27;o3&#x27;</div><input id='attrs-e372807b-0f76-499c-8db3-1b6504146f44' class='xr-var-attrs-in' type='checkbox' disabled><label for='attrs-e372807b-0f76-499c-8db3-1b6504146f44' title='Show/Hide attributes'><svg class='icon xr-icon-file-text2'><use xlink:href='#icon-file-text2'></use></svg></label><input id='data-a6e91346-8906-45b3-b602-4b3a03be52be' class='xr-var-data-in' type='checkbox'><label for='data-a6e91346-8906-45b3-b602-4b3a03be52be' title='Show/Hide data repr'><svg class='icon xr-icon-database'><use xlink:href='#icon-database'></use></svg></label><div class='xr-var-attrs'><dl class='xr-attrs'></dl></div><div class='xr-var-data'><pre>array([&#x27;o3&#x27;], dtype=&#x27;&lt;U2&#x27;)</pre></div></li><li class='xr-var-item'><div class='xr-var-name'><span class='xr-has-index'>y</span></div><div class='xr-var-dims'>(y)</div><div class='xr-var-dtype'>float64</div><div class='xr-var-preview xr-preview'>90.0 89.9 89.8 ... -89.8 -89.9</div><input id='attrs-c274fe93-053e-4c99-beca-9a11e670b44e' class='xr-var-attrs-in' type='checkbox' disabled><label for='attrs-c274fe93-053e-4c99-beca-9a11e670b44e' title='Show/Hide attributes'><svg class='icon xr-icon-file-text2'><use xlink:href='#icon-file-text2'></use></svg></label><input id='data-b69772b2-913e-4064-9007-180443e45d10' class='xr-var-data-in' type='checkbox'><label for='data-b69772b2-913e-4064-9007-180443e45d10' title='Show/Hide data repr'><svg class='icon xr-icon-database'><use xlink:href='#icon-database'></use></svg></label><div class='xr-var-attrs'><dl class='xr-attrs'></dl></div><div class='xr-var-data'><pre>array([ 90. ,  89.9,  89.8, ..., -89.7, -89.8, -89.9])</pre></div></li><li class='xr-var-item'><div class='xr-var-name'><span>proj:epsg</span></div><div class='xr-var-dims'>()</div><div class='xr-var-dtype'>int64</div><div class='xr-var-preview xr-preview'>4326</div><input id='attrs-0c2e4f64-eeea-4f06-9b7a-3539765a0bc1' class='xr-var-attrs-in' type='checkbox' disabled><label for='attrs-0c2e4f64-eeea-4f06-9b7a-3539765a0bc1' title='Show/Hide attributes'><svg class='icon xr-icon-file-text2'><use xlink:href='#icon-file-text2'></use></svg></label><input id='data-ac079be3-cd5c-415f-9b50-4800aa5cb296' class='xr-var-data-in' type='checkbox'><label for='data-ac079be3-cd5c-415f-9b50-4800aa5cb296' title='Show/Hide data repr'><svg class='icon xr-icon-database'><use xlink:href='#icon-database'></use></svg></label><div class='xr-var-attrs'><dl class='xr-attrs'></dl></div><div class='xr-var-data'><pre>array(4326)</pre></div></li><li class='xr-var-item'><div class='xr-var-name'><span>s5p:head_facility</span></div><div class='xr-var-dims'>()</div><div class='xr-var-dtype'>&lt;U29</div><div class='xr-var-preview xr-preview'>&#x27;German Aerospace Center (DLR)&#x27;</div><input id='attrs-bdd5ba1a-8097-4d7c-b243-eec421d25ffc' class='xr-var-attrs-in' type='checkbox' disabled><label for='attrs-bdd5ba1a-8097-4d7c-b243-eec421d25ffc' title='Show/Hide attributes'><svg class='icon xr-icon-file-text2'><use xlink:href='#icon-file-text2'></use></svg></label><input id='data-846aae2d-6165-44f6-871a-7af3d5fa262a' class='xr-var-data-in' type='checkbox'><label for='data-846aae2d-6165-44f6-871a-7af3d5fa262a' title='Show/Hide data repr'><svg class='icon xr-icon-database'><use xlink:href='#icon-database'></use></svg></label><div class='xr-var-attrs'><dl class='xr-attrs'></dl></div><div class='xr-var-data'><pre>array(&#x27;German Aerospace Center (DLR)&#x27;, dtype=&#x27;&lt;U29&#x27;)</pre></div></li><li class='xr-var-item'><div class='xr-var-name'><span>s5p:south_pole_ozone_hole_area_unit</span></div><div class='xr-var-dims'>()</div><div class='xr-var-dtype'>&lt;U3</div><div class='xr-var-preview xr-preview'>&#x27;km2&#x27;</div><input id='attrs-2fcedc2e-9880-425b-be24-b3094a7bc5c5' class='xr-var-attrs-in' type='checkbox' disabled><label for='attrs-2fcedc2e-9880-425b-be24-b3094a7bc5c5' title='Show/Hide attributes'><svg class='icon xr-icon-file-text2'><use xlink:href='#icon-file-text2'></use></svg></label><input id='data-1c26610f-6ac9-4f22-b182-b9ceef443466' class='xr-var-data-in' type='checkbox'><label for='data-1c26610f-6ac9-4f22-b182-b9ceef443466' title='Show/Hide data repr'><svg class='icon xr-icon-database'><use xlink:href='#icon-database'></use></svg></label><div class='xr-var-attrs'><dl class='xr-attrs'></dl></div><div class='xr-var-data'><pre>array(&#x27;km2&#x27;, dtype=&#x27;&lt;U3&#x27;)</pre></div></li><li class='xr-var-item'><div class='xr-var-name'><span>s5p:product_name</span></div><div class='xr-var-dims'>()</div><div class='xr-var-dtype'>&lt;U2</div><div class='xr-var-preview xr-preview'>&#x27;o3&#x27;</div><input id='attrs-8cbd70ca-ed96-4424-8b74-77d9b1af9461' class='xr-var-attrs-in' type='checkbox' disabled><label for='attrs-8cbd70ca-ed96-4424-8b74-77d9b1af9461' title='Show/Hide attributes'><svg class='icon xr-icon-file-text2'><use xlink:href='#icon-file-text2'></use></svg></label><input id='data-1e9a04aa-5d8d-4db5-aa1d-8ae94b3d2011' class='xr-var-data-in' type='checkbox'><label for='data-1e9a04aa-5d8d-4db5-aa1d-8ae94b3d2011' title='Show/Hide data repr'><svg class='icon xr-icon-database'><use xlink:href='#icon-database'></use></svg></label><div class='xr-var-attrs'><dl class='xr-attrs'></dl></div><div class='xr-var-data'><pre>array(&#x27;o3&#x27;, dtype=&#x27;&lt;U2&#x27;)</pre></div></li><li class='xr-var-item'><div class='xr-var-name'><span>proj:bbox</span></div><div class='xr-var-dims'>()</div><div class='xr-var-dtype'>object</div><div class='xr-var-preview xr-preview'>{180.0, -180.0, 90.0, -90.0}</div><input id='attrs-86bbcf72-010c-4506-87c2-c961e01514dc' class='xr-var-attrs-in' type='checkbox' disabled><label for='attrs-86bbcf72-010c-4506-87c2-c961e01514dc' title='Show/Hide attributes'><svg class='icon xr-icon-file-text2'><use xlink:href='#icon-file-text2'></use></svg></label><input id='data-e96ec4b1-039a-451b-8628-a10452029584' class='xr-var-data-in' type='checkbox'><label for='data-e96ec4b1-039a-451b-8628-a10452029584' title='Show/Hide data repr'><svg class='icon xr-icon-database'><use xlink:href='#icon-database'></use></svg></label><div class='xr-var-attrs'><dl class='xr-attrs'></dl></div><div class='xr-var-data'><pre>array({180.0, -180.0, 90.0, -90.0}, dtype=object)</pre></div></li><li class='xr-var-item'><div class='xr-var-name'><span>license</span></div><div class='xr-var-dims'>()</div><div class='xr-var-dtype'>&lt;U9</div><div class='xr-var-preview xr-preview'>&#x27;CC-BY 4.0&#x27;</div><input id='attrs-593a590b-97f0-489a-b6ab-3f9e2a9c58a2' class='xr-var-attrs-in' type='checkbox' disabled><label for='attrs-593a590b-97f0-489a-b6ab-3f9e2a9c58a2' title='Show/Hide attributes'><svg class='icon xr-icon-file-text2'><use xlink:href='#icon-file-text2'></use></svg></label><input id='data-e362258f-c476-4389-a676-31a5dd2161ba' class='xr-var-data-in' type='checkbox'><label for='data-e362258f-c476-4389-a676-31a5dd2161ba' title='Show/Hide data repr'><svg class='icon xr-icon-database'><use xlink:href='#icon-database'></use></svg></label><div class='xr-var-attrs'><dl class='xr-attrs'></dl></div><div class='xr-var-data'><pre>array(&#x27;CC-BY 4.0&#x27;, dtype=&#x27;&lt;U9&#x27;)</pre></div></li><li class='xr-var-item'><div class='xr-var-name'><span>s5p:l2_algorithm_version</span></div><div class='xr-var-dims'>()</div><div class='xr-var-dtype'>&lt;U22</div><div class='xr-var-preview xr-preview'>&#x27;UPAS-O3-DOAS_CAL-5.1.0&#x27;</div><input id='attrs-9816e807-cf51-45e7-8955-201bf0e6b89d' class='xr-var-attrs-in' type='checkbox' disabled><label for='attrs-9816e807-cf51-45e7-8955-201bf0e6b89d' title='Show/Hide attributes'><svg class='icon xr-icon-file-text2'><use xlink:href='#icon-file-text2'></use></svg></label><input id='data-005ed619-67c7-474e-a794-6adb4270b278' class='xr-var-data-in' type='checkbox'><label for='data-005ed619-67c7-474e-a794-6adb4270b278' title='Show/Hide data repr'><svg class='icon xr-icon-database'><use xlink:href='#icon-database'></use></svg></label><div class='xr-var-attrs'><dl class='xr-attrs'></dl></div><div class='xr-var-data'><pre>array(&#x27;UPAS-O3-DOAS_CAL-5.1.0&#x27;, dtype=&#x27;&lt;U22&#x27;)</pre></div></li><li class='xr-var-item'><div class='xr-var-name'><span>instruments</span></div><div class='xr-var-dims'>()</div><div class='xr-var-dtype'>&lt;U7</div><div class='xr-var-preview xr-preview'>&#x27;TROPOMI&#x27;</div><input id='attrs-5331b8e8-47ba-4fbb-94de-1a44aa6e2bef' class='xr-var-attrs-in' type='checkbox' disabled><label for='attrs-5331b8e8-47ba-4fbb-94de-1a44aa6e2bef' title='Show/Hide attributes'><svg class='icon xr-icon-file-text2'><use xlink:href='#icon-file-text2'></use></svg></label><input id='data-23d850ee-f2da-40f0-81fb-cbe26b4824a0' class='xr-var-data-in' type='checkbox'><label for='data-23d850ee-f2da-40f0-81fb-cbe26b4824a0' title='Show/Hide data repr'><svg class='icon xr-icon-database'><use xlink:href='#icon-database'></use></svg></label><div class='xr-var-attrs'><dl class='xr-attrs'></dl></div><div class='xr-var-data'><pre>array(&#x27;TROPOMI&#x27;, dtype=&#x27;&lt;U7&#x27;)</pre></div></li><li class='xr-var-item'><div class='xr-var-name'><span>processing:software</span></div><div class='xr-var-dims'>()</div><div class='xr-var-dtype'>object</div><div class='xr-var-preview xr-preview'>{&#x27;UMAS&#x27;: &#x27;4.1.0&#x27;}</div><input id='attrs-9d419ef4-e491-4bb7-b93f-b20982ef56f7' class='xr-var-attrs-in' type='checkbox' disabled><label for='attrs-9d419ef4-e491-4bb7-b93f-b20982ef56f7' title='Show/Hide attributes'><svg class='icon xr-icon-file-text2'><use xlink:href='#icon-file-text2'></use></svg></label><input id='data-afa51547-e531-4eef-9ee2-d2dcf2db229b' class='xr-var-data-in' type='checkbox'><label for='data-afa51547-e531-4eef-9ee2-d2dcf2db229b' title='Show/Hide data repr'><svg class='icon xr-icon-database'><use xlink:href='#icon-database'></use></svg></label><div class='xr-var-attrs'><dl class='xr-attrs'></dl></div><div class='xr-var-data'><pre>array({&#x27;UMAS&#x27;: &#x27;4.1.0&#x27;}, dtype=object)</pre></div></li><li class='xr-var-item'><div class='xr-var-name'><span>processing:level</span></div><div class='xr-var-dims'>()</div><div class='xr-var-dtype'>&lt;U2</div><div class='xr-var-preview xr-preview'>&#x27;L3&#x27;</div><input id='attrs-e0070d96-7448-4344-8673-9ea48d0684d0' class='xr-var-attrs-in' type='checkbox' disabled><label for='attrs-e0070d96-7448-4344-8673-9ea48d0684d0' title='Show/Hide attributes'><svg class='icon xr-icon-file-text2'><use xlink:href='#icon-file-text2'></use></svg></label><input id='data-b1c7e5f7-e8f3-4330-b171-21a462680ec0' class='xr-var-data-in' type='checkbox'><label for='data-b1c7e5f7-e8f3-4330-b171-21a462680ec0' title='Show/Hide data repr'><svg class='icon xr-icon-database'><use xlink:href='#icon-database'></use></svg></label><div class='xr-var-attrs'><dl class='xr-attrs'></dl></div><div class='xr-var-data'><pre>array(&#x27;L3&#x27;, dtype=&#x27;&lt;U2&#x27;)</pre></div></li><li class='xr-var-item'><div class='xr-var-name'><span>s5p:collection_identifier</span></div><div class='xr-var-dims'>()</div><div class='xr-var-dtype'>&lt;U2</div><div class='xr-var-preview xr-preview'>&#x27;01&#x27;</div><input id='attrs-2452b469-452d-4322-8f12-84c62bb6053b' class='xr-var-attrs-in' type='checkbox' disabled><label for='attrs-2452b469-452d-4322-8f12-84c62bb6053b' title='Show/Hide attributes'><svg class='icon xr-icon-file-text2'><use xlink:href='#icon-file-text2'></use></svg></label><input id='data-1ec78698-381d-49a9-8d4f-43f69f0cb6e4' class='xr-var-data-in' type='checkbox'><label for='data-1ec78698-381d-49a9-8d4f-43f69f0cb6e4' title='Show/Hide data repr'><svg class='icon xr-icon-database'><use xlink:href='#icon-database'></use></svg></label><div class='xr-var-attrs'><dl class='xr-attrs'></dl></div><div class='xr-var-data'><pre>array(&#x27;01&#x27;, dtype=&#x27;&lt;U2&#x27;)</pre></div></li><li class='xr-var-item'><div class='xr-var-name'><span>processing:facility</span></div><div class='xr-var-dims'>()</div><div class='xr-var-dtype'>&lt;U41</div><div class='xr-var-preview xr-preview'>&#x27;Remote Sensing Technology Insti...</div><input id='attrs-2ad3e3d4-cb9a-4470-aa51-c9aebda66815' class='xr-var-attrs-in' type='checkbox' disabled><label for='attrs-2ad3e3d4-cb9a-4470-aa51-c9aebda66815' title='Show/Hide attributes'><svg class='icon xr-icon-file-text2'><use xlink:href='#icon-file-text2'></use></svg></label><input id='data-4fe20f86-2095-458d-9bbe-2669248c43e8' class='xr-var-data-in' type='checkbox'><label for='data-4fe20f86-2095-458d-9bbe-2669248c43e8' title='Show/Hide data repr'><svg class='icon xr-icon-database'><use xlink:href='#icon-database'></use></svg></label><div class='xr-var-attrs'><dl class='xr-attrs'></dl></div><div class='xr-var-data'><pre>array(&#x27;Remote Sensing Technology Institute (IMF)&#x27;, dtype=&#x27;&lt;U41&#x27;)</pre></div></li><li class='xr-var-item'><div class='xr-var-name'><span>platform</span></div><div class='xr-var-dims'>()</div><div class='xr-var-dtype'>&lt;U20</div><div class='xr-var-preview xr-preview'>&#x27;Sentinel 5 Precursor&#x27;</div><input id='attrs-75e01231-88bb-4b63-a73c-85e5a85b1f27' class='xr-var-attrs-in' type='checkbox' disabled><label for='attrs-75e01231-88bb-4b63-a73c-85e5a85b1f27' title='Show/Hide attributes'><svg class='icon xr-icon-file-text2'><use xlink:href='#icon-file-text2'></use></svg></label><input id='data-41081f7e-bad5-4612-8a2c-7e08ee9f66c8' class='xr-var-data-in' type='checkbox'><label for='data-41081f7e-bad5-4612-8a2c-7e08ee9f66c8' title='Show/Hide data repr'><svg class='icon xr-icon-database'><use xlink:href='#icon-database'></use></svg></label><div class='xr-var-attrs'><dl class='xr-attrs'></dl></div><div class='xr-var-data'><pre>array(&#x27;Sentinel 5 Precursor&#x27;, dtype=&#x27;&lt;U20&#x27;)</pre></div></li><li class='xr-var-item'><div class='xr-var-name'><span>constellation</span></div><div class='xr-var-dims'>()</div><div class='xr-var-dtype'>&lt;U11</div><div class='xr-var-preview xr-preview'>&#x27;Sentinel-5P&#x27;</div><input id='attrs-b05fee92-d369-4afb-9d82-15aa6e10d1f7' class='xr-var-attrs-in' type='checkbox' disabled><label for='attrs-b05fee92-d369-4afb-9d82-15aa6e10d1f7' title='Show/Hide attributes'><svg class='icon xr-icon-file-text2'><use xlink:href='#icon-file-text2'></use></svg></label><input id='data-241b7594-b923-4077-84b0-5d33fb592d3c' class='xr-var-data-in' type='checkbox'><label for='data-241b7594-b923-4077-84b0-5d33fb592d3c' title='Show/Hide data repr'><svg class='icon xr-icon-database'><use xlink:href='#icon-database'></use></svg></label><div class='xr-var-attrs'><dl class='xr-attrs'></dl></div><div class='xr-var-data'><pre>array(&#x27;Sentinel-5P&#x27;, dtype=&#x27;&lt;U11&#x27;)</pre></div></li><li class='xr-var-item'><div class='xr-var-name'><span>proj:shape</span></div><div class='xr-var-dims'>()</div><div class='xr-var-dtype'>object</div><div class='xr-var-preview xr-preview'>{1800, 3600}</div><input id='attrs-e1bd422f-7ef1-4d76-b70e-4a713c54ee01' class='xr-var-attrs-in' type='checkbox' disabled><label for='attrs-e1bd422f-7ef1-4d76-b70e-4a713c54ee01' title='Show/Hide attributes'><svg class='icon xr-icon-file-text2'><use xlink:href='#icon-file-text2'></use></svg></label><input id='data-2214267f-b7ff-4798-9ff6-e9f4829484a5' class='xr-var-data-in' type='checkbox'><label for='data-2214267f-b7ff-4798-9ff6-e9f4829484a5' title='Show/Hide data repr'><svg class='icon xr-icon-database'><use xlink:href='#icon-database'></use></svg></label><div class='xr-var-attrs'><dl class='xr-attrs'></dl></div><div class='xr-var-data'><pre>array({1800, 3600}, dtype=object)</pre></div></li><li class='xr-var-item'><div class='xr-var-name'><span>s5p:datasource</span></div><div class='xr-var-dims'>()</div><div class='xr-var-dtype'>&lt;U48</div><div class='xr-var-preview xr-preview'>&#x27;Sentinel-5P, TROPOMI, space-bor...</div><input id='attrs-0c83c5f3-ece9-4481-9f4b-c65482d69f0c' class='xr-var-attrs-in' type='checkbox' disabled><label for='attrs-0c83c5f3-ece9-4481-9f4b-c65482d69f0c' title='Show/Hide attributes'><svg class='icon xr-icon-file-text2'><use xlink:href='#icon-file-text2'></use></svg></label><input id='data-1033e268-24a0-4e6a-a9fb-4d1ca58c2b88' class='xr-var-data-in' type='checkbox'><label for='data-1033e268-24a0-4e6a-a9fb-4d1ca58c2b88' title='Show/Hide data repr'><svg class='icon xr-icon-database'><use xlink:href='#icon-database'></use></svg></label><div class='xr-var-attrs'><dl class='xr-attrs'></dl></div><div class='xr-var-data'><pre>array(&#x27;Sentinel-5P, TROPOMI, space-borne remote sensing&#x27;, dtype=&#x27;&lt;U48&#x27;)</pre></div></li><li class='xr-var-item'><div class='xr-var-name'><span>s5p:processing_mode</span></div><div class='xr-var-dims'>()</div><div class='xr-var-dtype'>&lt;U4</div><div class='xr-var-preview xr-preview'>&#x27;NRTI&#x27;</div><input id='attrs-9645baaa-5ca6-4493-8dd9-31b28a1dc49e' class='xr-var-attrs-in' type='checkbox' disabled><label for='attrs-9645baaa-5ca6-4493-8dd9-31b28a1dc49e' title='Show/Hide attributes'><svg class='icon xr-icon-file-text2'><use xlink:href='#icon-file-text2'></use></svg></label><input id='data-0f07798b-bb48-4f9a-a6a6-b4b1c256c164' class='xr-var-data-in' type='checkbox'><label for='data-0f07798b-bb48-4f9a-a6a6-b4b1c256c164' title='Show/Hide data repr'><svg class='icon xr-icon-database'><use xlink:href='#icon-database'></use></svg></label><div class='xr-var-attrs'><dl class='xr-attrs'></dl></div><div class='xr-var-data'><pre>array(&#x27;NRTI&#x27;, dtype=&#x27;&lt;U4&#x27;)</pre></div></li><li class='xr-var-item'><div class='xr-var-name'><span>s5p:spatial_resolution</span></div><div class='xr-var-dims'>()</div><div class='xr-var-dtype'>&lt;U13</div><div class='xr-var-preview xr-preview'>&#x27;5.5 x 3.5 km2&#x27;</div><input id='attrs-f430e869-1a72-41d9-9049-fbf97e43e1e7' class='xr-var-attrs-in' type='checkbox' disabled><label for='attrs-f430e869-1a72-41d9-9049-fbf97e43e1e7' title='Show/Hide attributes'><svg class='icon xr-icon-file-text2'><use xlink:href='#icon-file-text2'></use></svg></label><input id='data-bfee9a2a-39a2-4fd6-bf81-f22f04f7dda7' class='xr-var-data-in' type='checkbox'><label for='data-bfee9a2a-39a2-4fd6-bf81-f22f04f7dda7' title='Show/Hide data repr'><svg class='icon xr-icon-database'><use xlink:href='#icon-database'></use></svg></label><div class='xr-var-attrs'><dl class='xr-attrs'></dl></div><div class='xr-var-data'><pre>array(&#x27;5.5 x 3.5 km2&#x27;, dtype=&#x27;&lt;U13&#x27;)</pre></div></li><li class='xr-var-item'><div class='xr-var-name'><span>title</span></div><div class='xr-var-dims'>()</div><div class='xr-var-dtype'>&lt;U2</div><div class='xr-var-preview xr-preview'>&#x27;O3&#x27;</div><input id='attrs-e6054168-a166-46e1-8e3c-1daf803297e2' class='xr-var-attrs-in' type='checkbox' disabled><label for='attrs-e6054168-a166-46e1-8e3c-1daf803297e2' title='Show/Hide attributes'><svg class='icon xr-icon-file-text2'><use xlink:href='#icon-file-text2'></use></svg></label><input id='data-94ab82d6-7bd8-4140-af31-77e00f89cc6f' class='xr-var-data-in' type='checkbox'><label for='data-94ab82d6-7bd8-4140-af31-77e00f89cc6f' title='Show/Hide data repr'><svg class='icon xr-icon-database'><use xlink:href='#icon-database'></use></svg></label><div class='xr-var-attrs'><dl class='xr-attrs'></dl></div><div class='xr-var-data'><pre>array(&#x27;O3&#x27;, dtype=&#x27;&lt;U2&#x27;)</pre></div></li><li class='xr-var-item'><div class='xr-var-name'><span>description</span></div><div class='xr-var-dims'>()</div><div class='xr-var-dtype'>&lt;U104</div><div class='xr-var-preview xr-preview'>&#x27;TROPOMI/S5P L3 data of ozone to...</div><input id='attrs-11997524-3cbe-4e6a-b9ec-01216b8281c1' class='xr-var-attrs-in' type='checkbox' disabled><label for='attrs-11997524-3cbe-4e6a-b9ec-01216b8281c1' title='Show/Hide attributes'><svg class='icon xr-icon-file-text2'><use xlink:href='#icon-file-text2'></use></svg></label><input id='data-46a6a358-2701-4d48-a70a-2c212d5d420a' class='xr-var-data-in' type='checkbox'><label for='data-46a6a358-2701-4d48-a70a-2c212d5d420a' title='Show/Hide data repr'><svg class='icon xr-icon-database'><use xlink:href='#icon-database'></use></svg></label><div class='xr-var-attrs'><dl class='xr-attrs'></dl></div><div class='xr-var-data'><pre>array(&#x27;TROPOMI/S5P L3 data of ozone total column with a global coverage and a 5.5 x 3.5 km2 spatial resolution.&#x27;,\n",
       "      dtype=&#x27;&lt;U104&#x27;)</pre></div></li><li class='xr-var-item'><div class='xr-var-name'><span>epsg</span></div><div class='xr-var-dims'>()</div><div class='xr-var-dtype'>int64</div><div class='xr-var-preview xr-preview'>4326</div><input id='attrs-be9384e0-6d7e-44ca-ae7c-566a99613fa2' class='xr-var-attrs-in' type='checkbox' disabled><label for='attrs-be9384e0-6d7e-44ca-ae7c-566a99613fa2' title='Show/Hide attributes'><svg class='icon xr-icon-file-text2'><use xlink:href='#icon-file-text2'></use></svg></label><input id='data-8a0aa726-fc00-4454-b991-1ada9bdea39d' class='xr-var-data-in' type='checkbox'><label for='data-8a0aa726-fc00-4454-b991-1ada9bdea39d' title='Show/Hide data repr'><svg class='icon xr-icon-database'><use xlink:href='#icon-database'></use></svg></label><div class='xr-var-attrs'><dl class='xr-attrs'></dl></div><div class='xr-var-data'><pre>array(4326)</pre></div></li></ul></div></li><li class='xr-section-item'><input id='section-8f0ad553-e705-4007-b747-d5428ed78b0c' class='xr-section-summary-in' type='checkbox'  ><label for='section-8f0ad553-e705-4007-b747-d5428ed78b0c' class='xr-section-summary' >Indexes: <span>(2)</span></label><div class='xr-section-inline-details'></div><div class='xr-section-details'><ul class='xr-var-list'><li class='xr-var-item'><div class='xr-index-name'><div>band</div></div><div class='xr-index-preview'>PandasIndex</div><div></div><input id='index-5b49402d-4fbe-40b7-9b53-5a506f8be660' class='xr-index-data-in' type='checkbox'/><label for='index-5b49402d-4fbe-40b7-9b53-5a506f8be660' title='Show/Hide index repr'><svg class='icon xr-icon-database'><use xlink:href='#icon-database'></use></svg></label><div class='xr-index-data'><pre>PandasIndex(Index([&#x27;o3&#x27;], dtype=&#x27;object&#x27;, name=&#x27;band&#x27;))</pre></div></li><li class='xr-var-item'><div class='xr-index-name'><div>y</div></div><div class='xr-index-preview'>PandasIndex</div><div></div><input id='index-1a816477-40aa-48a2-9442-49e01040081f' class='xr-index-data-in' type='checkbox'/><label for='index-1a816477-40aa-48a2-9442-49e01040081f' title='Show/Hide index repr'><svg class='icon xr-icon-database'><use xlink:href='#icon-database'></use></svg></label><div class='xr-index-data'><pre>PandasIndex(Index([              90.0,               89.9,               89.8,\n",
       "                     89.7,               89.6,               89.5,\n",
       "                     89.4,               89.3,               89.2,\n",
       "                     89.1,\n",
       "       ...\n",
       "                    -89.0, -89.10000000000002, -89.20000000000002,\n",
       "       -89.30000000000001,              -89.4,              -89.5,\n",
       "       -89.60000000000002, -89.70000000000002, -89.80000000000001,\n",
       "                    -89.9],\n",
       "      dtype=&#x27;float64&#x27;, name=&#x27;y&#x27;, length=1800))</pre></div></li></ul></div></li><li class='xr-section-item'><input id='section-15aa6ddc-74d6-4bd7-ab05-60807cf91705' class='xr-section-summary-in' type='checkbox'  checked><label for='section-15aa6ddc-74d6-4bd7-ab05-60807cf91705' class='xr-section-summary' >Attributes: <span>(5)</span></label><div class='xr-section-inline-details'></div><div class='xr-section-details'><dl class='xr-attrs'><dt><span>spec :</span></dt><dd>RasterSpec(epsg=4326, bounds=(-180.0, -90.0, 180.0, 90.0), resolutions_xy=(0.1, 0.1))</dd><dt><span>crs :</span></dt><dd>epsg:4326</dd><dt><span>transform :</span></dt><dd>| 0.10, 0.00,-180.00|\n",
       "| 0.00,-0.10, 90.00|\n",
       "| 0.00, 0.00, 1.00|</dd><dt><span>resolution :</span></dt><dd>0.1</dd><dt><span>reduced_dimensions_min_values :</span></dt><dd>{&#x27;time&#x27;: numpy.datetime64(&#x27;2023-09-01T00:00:00.000000000&#x27;), &#x27;x&#x27;: -180.0}</dd></dl></div></li></ul></div></div>"
      ],
      "text/plain": [
       "<xarray.DataArray 'stackstac-01183a025125420496494548fcd8964e' (band: 1, y: 1800)>\n",
       "dask.array<mean_agg-aggregate, shape=(1, 1800), dtype=float64, chunksize=(1, 1024), chunktype=numpy.ndarray>\n",
       "Coordinates: (12/23)\n",
       "  * band                                 (band) <U2 'o3'\n",
       "  * y                                    (y) float64 90.0 89.9 ... -89.8 -89.9\n",
       "    proj:epsg                            int64 4326\n",
       "    s5p:head_facility                    <U29 'German Aerospace Center (DLR)'\n",
       "    s5p:south_pole_ozone_hole_area_unit  <U3 'km2'\n",
       "    s5p:product_name                     <U2 'o3'\n",
       "    ...                                   ...\n",
       "    s5p:datasource                       <U48 'Sentinel-5P, TROPOMI, space-bo...\n",
       "    s5p:processing_mode                  <U4 'NRTI'\n",
       "    s5p:spatial_resolution               <U13 '5.5 x 3.5 km2'\n",
       "    title                                <U2 'O3'\n",
       "    description                          <U104 'TROPOMI/S5P L3 data of ozone ...\n",
       "    epsg                                 int64 4326\n",
       "Attributes:\n",
       "    spec:                           RasterSpec(epsg=4326, bounds=(-180.0, -90...\n",
       "    crs:                            epsg:4326\n",
       "    transform:                      | 0.10, 0.00,-180.00|\\n| 0.00,-0.10, 90.0...\n",
       "    resolution:                     0.1\n",
       "    reduced_dimensions_min_values:  {'time': numpy.datetime64('2023-09-01T00:..."
      ]
     },
     "execution_count": 20,
     "metadata": {},
     "output_type": "execute_result"
    }
   ],
   "source": [
    "result_mean"
   ]
  },
  {
   "cell_type": "code",
   "execution_count": 21,
   "id": "61de7106-ae03-40bd-9c2a-fb3701031505",
   "metadata": {},
   "outputs": [],
   "source": [
    "# task_reduce_x = task_reduce_time.reduce_dimension('x', reducer='mean', context={\"ignore_nodata\": True})\n",
    "# task = s5p_datacube.apply_dimension(process=nan_mean_function_0, dimension=\"y\")"
   ]
  }
 ],
 "metadata": {
  "kernelspec": {
   "display_name": "Python 3 (ipykernel)",
   "language": "python",
   "name": "python3"
  },
  "language_info": {
   "codemirror_mode": {
    "name": "ipython",
    "version": 3
   },
   "file_extension": ".py",
   "mimetype": "text/x-python",
   "name": "python",
   "nbconvert_exporter": "python",
   "pygments_lexer": "ipython3",
   "version": "3.8.10"
  }
 },
 "nbformat": 4,
 "nbformat_minor": 5
}
